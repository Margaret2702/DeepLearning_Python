{
  "nbformat": 4,
  "nbformat_minor": 0,
  "metadata": {
    "kernelspec": {
      "display_name": "Python 3",
      "language": "python",
      "name": "python3"
    },
    "language_info": {
      "codemirror_mode": {
        "name": "ipython",
        "version": 3
      },
      "file_extension": ".py",
      "mimetype": "text/x-python",
      "name": "python",
      "nbconvert_exporter": "python",
      "pygments_lexer": "ipython3",
      "version": "3.7.6"
    },
    "colab": {
      "name": "solution_4_machine_learning (1).ipynb",
      "provenance": [],
      "collapsed_sections": []
    }
  },
  "cells": [
    {
      "cell_type": "code",
      "metadata": {
        "id": "9DkHVSZmI1Mv"
      },
      "source": [
        "#Importing the panda and numpy libraries\n",
        "import pandas as pd\n",
        "import numpy as np"
      ],
      "execution_count": null,
      "outputs": []
    },
    {
      "cell_type": "code",
      "metadata": {
        "id": "yVtmikHbI1ND"
      },
      "source": [
        "#reading the testing and training data\n",
        "training_data = pd.read_csv('train.csv')\n",
        "testing_data = pd.read_csv('test.csv')"
      ],
      "execution_count": null,
      "outputs": []
    },
    {
      "cell_type": "code",
      "metadata": {
        "id": "sdLLnc8_I1NG",
        "outputId": "00ca3a6e-0dd3-4634-881f-19e057055542"
      },
      "source": [
        "#combining the training and testing data to feed it to count vectorizer\n",
        "# tha data has to be coombines so that shape of training and testing data is same after vectorization\n",
        "data = pd.concat([training_data, testing_data])"
      ],
      "execution_count": null,
      "outputs": [
        {
          "output_type": "stream",
          "text": [
            "/home/sanju/anaconda3/lib/python3.7/site-packages/ipykernel_launcher.py:1: FutureWarning: Sorting because non-concatenation axis is not aligned. A future version\n",
            "of pandas will change to not sort by default.\n",
            "\n",
            "To accept the future behavior, pass 'sort=False'.\n",
            "\n",
            "To retain the current behavior and silence the warning, pass 'sort=True'.\n",
            "\n",
            "  \"\"\"Entry point for launching an IPython kernel.\n"
          ],
          "name": "stderr"
        }
      ]
    },
    {
      "cell_type": "code",
      "metadata": {
        "id": "lTj-lTHCI1NK"
      },
      "source": [
        "data = data.dropna()  #removing null values"
      ],
      "execution_count": null,
      "outputs": []
    },
    {
      "cell_type": "code",
      "metadata": {
        "id": "k-jH1jx9I1NL"
      },
      "source": [
        "#assigning the text column of the dataset to X and sentiment to y\n",
        "X = data['text']\n",
        "y = data['sentiment']"
      ],
      "execution_count": null,
      "outputs": []
    },
    {
      "cell_type": "code",
      "metadata": {
        "id": "EvwYESaKI1NM"
      },
      "source": [
        "#Importing the label encoder and testing training splitter from Sklearn\n",
        "from sklearn.preprocessing import LabelEncoder\n",
        "from sklearn.model_selection import train_test_split"
      ],
      "execution_count": null,
      "outputs": []
    },
    {
      "cell_type": "code",
      "metadata": {
        "id": "aEYz9IyPI1NN"
      },
      "source": [
        "y = LabelEncoder().fit_transform(y)  #converting sentiments into labels"
      ],
      "execution_count": null,
      "outputs": []
    },
    {
      "cell_type": "code",
      "metadata": {
        "id": "jd80MbF_I1NN"
      },
      "source": [
        "#importing countvetorization for feature extraction\n",
        "from sklearn.feature_extraction.text import CountVectorizer"
      ],
      "execution_count": null,
      "outputs": []
    },
    {
      "cell_type": "code",
      "metadata": {
        "id": "nx8h-pTkI1NO"
      },
      "source": [
        "#Assigning countVectorization to a variable\n",
        "count_vectorizer = CountVectorizer()"
      ],
      "execution_count": null,
      "outputs": []
    },
    {
      "cell_type": "code",
      "metadata": {
        "id": "7ixL5iTJI1NP"
      },
      "source": [
        "X = count_vect.fit_transform(X)    #converting text into tokens"
      ],
      "execution_count": null,
      "outputs": []
    },
    {
      "cell_type": "code",
      "metadata": {
        "id": "JGdTpjqEI1NQ"
      },
      "source": [
        "#spliting the data into training and testing\n",
        "X_train, X_test, y_train, y_test = train_test_split(X, y, test_size=0.33, random_state=42)   "
      ],
      "execution_count": null,
      "outputs": []
    },
    {
      "cell_type": "code",
      "metadata": {
        "id": "6fo_3s6TI1NR",
        "outputId": "3b018538-fda0-4beb-bb43-3dd5d5b75724"
      },
      "source": [
        "#visualizing testing and training shapes\n",
        "X_train.shape, X_test.shape"
      ],
      "execution_count": null,
      "outputs": [
        {
          "output_type": "execute_result",
          "data": {
            "text/plain": [
              "((18411, 26439), (9069, 26439))"
            ]
          },
          "metadata": {
            "tags": []
          },
          "execution_count": 129
        }
      ]
    },
    {
      "cell_type": "code",
      "metadata": {
        "id": "Qp7picleI1NS"
      },
      "source": [
        "#importing the LogisticRegression,RandomForestClassifier,LinearSVC,f1_score\n",
        "from sklearn.linear_model import LogisticRegression\n",
        "from sklearn.ensemble import RandomForestClassifier\n",
        "from sklearn.svm import LinearSVC\n",
        "from sklearn.metrics import f1_score"
      ],
      "execution_count": null,
      "outputs": []
    },
    {
      "cell_type": "code",
      "metadata": {
        "id": "cUU_nUY1I1NT"
      },
      "source": [
        "#Assigning values to Random forest \n",
        "model_random_forest = RandomForestClassifier(n_estimators=200, max_depth=3, random_state=0)"
      ],
      "execution_count": null,
      "outputs": []
    },
    {
      "cell_type": "code",
      "metadata": {
        "id": "HSpaSbYPI1NU",
        "outputId": "24ad5fc0-8e33-4174-d572-43212c4c943c"
      },
      "source": [
        "#Fitting the training set in model\n",
        "model_random_forest.fit(X_train, y_train)"
      ],
      "execution_count": null,
      "outputs": [
        {
          "output_type": "execute_result",
          "data": {
            "text/plain": [
              "RandomForestClassifier(max_depth=3, n_estimators=200, random_state=0)"
            ]
          },
          "metadata": {
            "tags": []
          },
          "execution_count": 135
        }
      ]
    },
    {
      "cell_type": "code",
      "metadata": {
        "id": "ggmkWugBI1NV",
        "outputId": "81109639-833c-4ce4-d32c-507774e427dd"
      },
      "source": [
        "model_random_forest.score(X_test, y_test)     #accuracy"
      ],
      "execution_count": null,
      "outputs": [
        {
          "output_type": "execute_result",
          "data": {
            "text/plain": [
              "0.40467526739442056"
            ]
          },
          "metadata": {
            "tags": []
          },
          "execution_count": 136
        }
      ]
    },
    {
      "cell_type": "code",
      "metadata": {
        "id": "k1YhKA7VI1Na",
        "outputId": "77e0fa3b-e27a-4b35-b206-3d5b7af88131"
      },
      "source": [
        "f1_score(y_test, model_random_forest.predict(X_test), average='weighted')     #f1 score"
      ],
      "execution_count": null,
      "outputs": [
        {
          "output_type": "execute_result",
          "data": {
            "text/plain": [
              "0.23355669599821885"
            ]
          },
          "metadata": {
            "tags": []
          },
          "execution_count": 146
        }
      ]
    },
    {
      "cell_type": "markdown",
      "metadata": {
        "id": "Lh3MWPWfI1Nb"
      },
      "source": [
        "## Linear SVC"
      ]
    },
    {
      "cell_type": "code",
      "metadata": {
        "id": "IYYU6nLPI1Nb"
      },
      "source": [
        "#craeting a linearSVC \n",
        "model_linear_svc = LinearSVC()"
      ],
      "execution_count": null,
      "outputs": []
    },
    {
      "cell_type": "code",
      "metadata": {
        "id": "ntyO0HBzI1Nc",
        "outputId": "ed2c68fd-fd5f-4e59-984b-a3989558d857"
      },
      "source": [
        "#Fitting the training set in linear svc model\n",
        "model_linear_svc.fit(X_train, y_train)"
      ],
      "execution_count": null,
      "outputs": [
        {
          "output_type": "execute_result",
          "data": {
            "text/plain": [
              "LinearSVC()"
            ]
          },
          "metadata": {
            "tags": []
          },
          "execution_count": 138
        }
      ]
    },
    {
      "cell_type": "code",
      "metadata": {
        "id": "-wwWdM9XI1Nd",
        "outputId": "d161d866-c0ad-4c28-e896-0b78552aef9d"
      },
      "source": [
        "model_linear_svc.score(X_test, y_test)    #accuracy"
      ],
      "execution_count": null,
      "outputs": [
        {
          "output_type": "execute_result",
          "data": {
            "text/plain": [
              "0.6592788620575587"
            ]
          },
          "metadata": {
            "tags": []
          },
          "execution_count": 139
        }
      ]
    },
    {
      "cell_type": "code",
      "metadata": {
        "id": "6Pvu1thtI1Ne",
        "outputId": "0712930b-9eaf-43ae-d14a-9cd9f0a3b328"
      },
      "source": [
        "f1_score(y_test, model_linear_svc.predict(X_test), average='weighted')   #f1 score"
      ],
      "execution_count": null,
      "outputs": [
        {
          "output_type": "execute_result",
          "data": {
            "text/plain": [
              "0.6590708118781282"
            ]
          },
          "metadata": {
            "tags": []
          },
          "execution_count": 147
        }
      ]
    },
    {
      "cell_type": "markdown",
      "metadata": {
        "id": "QKQTC8jfI1Nf"
      },
      "source": [
        "## Logistic Regression"
      ]
    },
    {
      "cell_type": "code",
      "metadata": {
        "id": "ge0rwW25I1Nf"
      },
      "source": [
        "#Creating a logistic regression model\n",
        "model_logistic_regression = LogisticRegression()"
      ],
      "execution_count": null,
      "outputs": []
    },
    {
      "cell_type": "code",
      "metadata": {
        "id": "g3SGxWLvI1Ng",
        "outputId": "c5ff5d09-7ed1-4112-d4bf-1e8e5ed5b7a9"
      },
      "source": [
        "#Fitting the training set in logistic regression\n",
        "model_logistic_regression.fit(X_train, y_train)"
      ],
      "execution_count": null,
      "outputs": [
        {
          "output_type": "stream",
          "text": [
            "/home/sanju/anaconda3/lib/python3.7/site-packages/sklearn/linear_model/_logistic.py:764: ConvergenceWarning: lbfgs failed to converge (status=1):\n",
            "STOP: TOTAL NO. of ITERATIONS REACHED LIMIT.\n",
            "\n",
            "Increase the number of iterations (max_iter) or scale the data as shown in:\n",
            "    https://scikit-learn.org/stable/modules/preprocessing.html\n",
            "Please also refer to the documentation for alternative solver options:\n",
            "    https://scikit-learn.org/stable/modules/linear_model.html#logistic-regression\n",
            "  extra_warning_msg=_LOGISTIC_SOLVER_CONVERGENCE_MSG)\n"
          ],
          "name": "stderr"
        },
        {
          "output_type": "execute_result",
          "data": {
            "text/plain": [
              "LogisticRegression()"
            ]
          },
          "metadata": {
            "tags": []
          },
          "execution_count": 141
        }
      ]
    },
    {
      "cell_type": "code",
      "metadata": {
        "id": "WGOc9eojI1Nh",
        "outputId": "193a10ab-9d1f-4901-e4dd-65bc828043c8"
      },
      "source": [
        "model_logistic_regression.score(X_test, y_test)       #accuracy"
      ],
      "execution_count": null,
      "outputs": [
        {
          "output_type": "execute_result",
          "data": {
            "text/plain": [
              "0.6854118425405227"
            ]
          },
          "metadata": {
            "tags": []
          },
          "execution_count": 142
        }
      ]
    },
    {
      "cell_type": "code",
      "metadata": {
        "id": "eA1qkk3iI1Nh",
        "outputId": "745a4fd7-0fe7-4629-cf0d-2a6f4f5a64ba"
      },
      "source": [
        "f1_score(y_test, model_logistic_regression.predict(X_test), average='weighted')   #f1 score"
      ],
      "execution_count": null,
      "outputs": [
        {
          "output_type": "execute_result",
          "data": {
            "text/plain": [
              "0.6855381889268087"
            ]
          },
          "metadata": {
            "tags": []
          },
          "execution_count": 148
        }
      ]
    }
  ]
}