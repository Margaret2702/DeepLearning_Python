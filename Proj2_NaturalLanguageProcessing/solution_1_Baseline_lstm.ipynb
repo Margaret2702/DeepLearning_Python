{
 "cells": [
  {
   "cell_type": "code",
   "execution_count": 1,
   "metadata": {
    "colab": {
     "base_uri": "https://localhost:8080/"
    },
    "id": "ChKfzE2LisvB",
    "outputId": "dc4d1e02-96e8-43d5-8f40-e84ad39ee2a4"
   },
   "outputs": [
    {
     "name": "stderr",
     "output_type": "stream",
     "text": [
      "[nltk_data] Downloading package punkt to /home/sanju/nltk_data...\n",
      "[nltk_data]   Package punkt is already up-to-date!\n",
      "[nltk_data] Downloading package stopwords to /home/sanju/nltk_data...\n",
      "[nltk_data]   Package stopwords is already up-to-date!\n",
      "Using TensorFlow backend.\n"
     ]
    }
   ],
   "source": [
    "#importing libraries : Pandas,numpy,string,regular expression,natural language tool kit,Scikit-learn,tensorflow,keras\n",
    "import pandas as pd\n",
    "import numpy as np\n",
    "import string\n",
    "import re\n",
    "import nltk\n",
    "#downloading the punctuations and stopwords from natural language toolkit\n",
    "nltk.download('punkt')\n",
    "nltk.download('stopwords')\n",
    "#importing stopwords for the tweets\n",
    "from nltk.corpus import stopwords\n",
    "\n",
    "sw = stopwords.words('english')\n",
    "from sklearn.model_selection import train_test_split\n",
    "from tensorflow.keras.models import Sequential\n",
    "#importing the layers required for the model\n",
    "from tensorflow.keras.layers import Dense, LSTM,Bidirectional, Dropout,MaxPool2D,Conv1D,MaxPool1D,RNN,SimpleRNN,LSTMCell,TimeDistributed,GRU,GRUCell\n",
    "#importing the label encoding\n",
    "from sklearn.preprocessing import LabelEncoder\n",
    "#importing tokenizers from natural language toolkit\n",
    "from nltk.tokenize import word_tokenize, sent_tokenize\n",
    "#importing the embedding layer\n",
    "from keras.layers import Embedding\n",
    "#importing metrics\n",
    "from sklearn.metrics import f1_score, precision_score, recall_score,accuracy_score"
   ]
  },
  {
   "cell_type": "code",
   "execution_count": 2,
   "metadata": {
    "id": "zU65df-JisvN"
   },
   "outputs": [],
   "source": [
    "#reading the training dataset\n",
    "data = pd.read_csv('train.csv')"
   ]
  },
  {
   "cell_type": "code",
   "execution_count": 3,
   "metadata": {
    "id": "H7f693hBJUgc"
   },
   "outputs": [],
   "source": [
    "#reading the training dataset\n",
    "testdata = pd.read_csv('test.csv')"
   ]
  },
  {
   "cell_type": "markdown",
   "metadata": {
    "id": "zN-t4TY3Taya"
   },
   "source": [
    "# New Section"
   ]
  },
  {
   "cell_type": "code",
   "execution_count": 4,
   "metadata": {
    "colab": {
     "base_uri": "https://localhost:8080/",
     "height": 195
    },
    "id": "93Cgm2EgisvO",
    "outputId": "8d25d268-514e-4d40-e40d-0762532b93e9"
   },
   "outputs": [
    {
     "data": {
      "text/html": [
       "<div>\n",
       "<style scoped>\n",
       "    .dataframe tbody tr th:only-of-type {\n",
       "        vertical-align: middle;\n",
       "    }\n",
       "\n",
       "    .dataframe tbody tr th {\n",
       "        vertical-align: top;\n",
       "    }\n",
       "\n",
       "    .dataframe thead th {\n",
       "        text-align: right;\n",
       "    }\n",
       "</style>\n",
       "<table border=\"1\" class=\"dataframe\">\n",
       "  <thead>\n",
       "    <tr style=\"text-align: right;\">\n",
       "      <th></th>\n",
       "      <th>textID</th>\n",
       "      <th>text</th>\n",
       "      <th>selected_text</th>\n",
       "      <th>sentiment</th>\n",
       "    </tr>\n",
       "  </thead>\n",
       "  <tbody>\n",
       "    <tr>\n",
       "      <th>0</th>\n",
       "      <td>cb774db0d1</td>\n",
       "      <td>I`d have responded, if I were going</td>\n",
       "      <td>I`d have responded, if I were going</td>\n",
       "      <td>neutral</td>\n",
       "    </tr>\n",
       "    <tr>\n",
       "      <th>1</th>\n",
       "      <td>549e992a42</td>\n",
       "      <td>Sooo SAD I will miss you here in San Diego!!!</td>\n",
       "      <td>Sooo SAD</td>\n",
       "      <td>negative</td>\n",
       "    </tr>\n",
       "    <tr>\n",
       "      <th>2</th>\n",
       "      <td>088c60f138</td>\n",
       "      <td>my boss is bullying me...</td>\n",
       "      <td>bullying me</td>\n",
       "      <td>negative</td>\n",
       "    </tr>\n",
       "    <tr>\n",
       "      <th>3</th>\n",
       "      <td>9642c003ef</td>\n",
       "      <td>what interview! leave me alone</td>\n",
       "      <td>leave me alone</td>\n",
       "      <td>negative</td>\n",
       "    </tr>\n",
       "    <tr>\n",
       "      <th>4</th>\n",
       "      <td>358bd9e861</td>\n",
       "      <td>Sons of ****, why couldn`t they put them on t...</td>\n",
       "      <td>Sons of ****,</td>\n",
       "      <td>negative</td>\n",
       "    </tr>\n",
       "  </tbody>\n",
       "</table>\n",
       "</div>"
      ],
      "text/plain": [
       "       textID                                               text  \\\n",
       "0  cb774db0d1                I`d have responded, if I were going   \n",
       "1  549e992a42      Sooo SAD I will miss you here in San Diego!!!   \n",
       "2  088c60f138                          my boss is bullying me...   \n",
       "3  9642c003ef                     what interview! leave me alone   \n",
       "4  358bd9e861   Sons of ****, why couldn`t they put them on t...   \n",
       "\n",
       "                         selected_text sentiment  \n",
       "0  I`d have responded, if I were going   neutral  \n",
       "1                             Sooo SAD  negative  \n",
       "2                          bullying me  negative  \n",
       "3                       leave me alone  negative  \n",
       "4                        Sons of ****,  negative  "
      ]
     },
     "execution_count": 4,
     "metadata": {},
     "output_type": "execute_result"
    }
   ],
   "source": [
    "#reading headers in training data\n",
    "data.head()"
   ]
  },
  {
   "cell_type": "code",
   "execution_count": 5,
   "metadata": {
    "id": "wuuEChXG1qwo"
   },
   "outputs": [
    {
     "data": {
      "text/html": [
       "<div>\n",
       "<style scoped>\n",
       "    .dataframe tbody tr th:only-of-type {\n",
       "        vertical-align: middle;\n",
       "    }\n",
       "\n",
       "    .dataframe tbody tr th {\n",
       "        vertical-align: top;\n",
       "    }\n",
       "\n",
       "    .dataframe thead th {\n",
       "        text-align: right;\n",
       "    }\n",
       "</style>\n",
       "<table border=\"1\" class=\"dataframe\">\n",
       "  <thead>\n",
       "    <tr style=\"text-align: right;\">\n",
       "      <th></th>\n",
       "      <th>textID</th>\n",
       "      <th>text</th>\n",
       "      <th>sentiment</th>\n",
       "    </tr>\n",
       "  </thead>\n",
       "  <tbody>\n",
       "    <tr>\n",
       "      <th>0</th>\n",
       "      <td>f87dea47db</td>\n",
       "      <td>Last session of the day  http://twitpic.com/67ezh</td>\n",
       "      <td>neutral</td>\n",
       "    </tr>\n",
       "    <tr>\n",
       "      <th>1</th>\n",
       "      <td>96d74cb729</td>\n",
       "      <td>Shanghai is also really exciting (precisely -...</td>\n",
       "      <td>positive</td>\n",
       "    </tr>\n",
       "    <tr>\n",
       "      <th>2</th>\n",
       "      <td>eee518ae67</td>\n",
       "      <td>Recession hit Veronique Branquinho, she has to...</td>\n",
       "      <td>negative</td>\n",
       "    </tr>\n",
       "    <tr>\n",
       "      <th>3</th>\n",
       "      <td>01082688c6</td>\n",
       "      <td>happy bday!</td>\n",
       "      <td>positive</td>\n",
       "    </tr>\n",
       "    <tr>\n",
       "      <th>4</th>\n",
       "      <td>33987a8ee5</td>\n",
       "      <td>http://twitpic.com/4w75p - I like it!!</td>\n",
       "      <td>positive</td>\n",
       "    </tr>\n",
       "  </tbody>\n",
       "</table>\n",
       "</div>"
      ],
      "text/plain": [
       "       textID                                               text sentiment\n",
       "0  f87dea47db  Last session of the day  http://twitpic.com/67ezh   neutral\n",
       "1  96d74cb729   Shanghai is also really exciting (precisely -...  positive\n",
       "2  eee518ae67  Recession hit Veronique Branquinho, she has to...  negative\n",
       "3  01082688c6                                        happy bday!  positive\n",
       "4  33987a8ee5             http://twitpic.com/4w75p - I like it!!  positive"
      ]
     },
     "execution_count": 5,
     "metadata": {},
     "output_type": "execute_result"
    }
   ],
   "source": [
    "#reading headers in testing data\n",
    "testdata.head()"
   ]
  },
  {
   "cell_type": "code",
   "execution_count": 6,
   "metadata": {
    "id": "Y4X_w4IzisvQ"
   },
   "outputs": [],
   "source": [
    "#removing the blank spaces\n",
    "data = data.dropna()"
   ]
  },
  {
   "cell_type": "code",
   "execution_count": 7,
   "metadata": {
    "id": "7ME6IIw3isvQ"
   },
   "outputs": [],
   "source": [
    "#Assigning the text in the dataset to variable X\n",
    "X = data['text']"
   ]
  },
  {
   "cell_type": "code",
   "execution_count": 8,
   "metadata": {
    "id": "oeA6GQ9FKMP-"
   },
   "outputs": [],
   "source": [
    "#test variables\n",
    "X_test=testdata['text']\n",
    "y_test=testdata['sentiment']\n",
    "y_test=LabelEncoder().fit_transform(y_test)"
   ]
  },
  {
   "cell_type": "code",
   "execution_count": 9,
   "metadata": {
    "id": "xZ5-PtCrisvQ"
   },
   "outputs": [],
   "source": [
    "#Assigning the sentiment in the dataset to variable Y\n",
    "y = data['sentiment']"
   ]
  },
  {
   "cell_type": "code",
   "execution_count": 10,
   "metadata": {
    "colab": {
     "base_uri": "https://localhost:8080/"
    },
    "id": "WIpW5TRRisvR",
    "outputId": "4fc526ab-f281-4a74-b839-b4bb0aeb8383"
   },
   "outputs": [
    {
     "data": {
      "text/plain": [
       "0         neutral\n",
       "1        negative\n",
       "2        negative\n",
       "3        negative\n",
       "4        negative\n",
       "5         neutral\n",
       "6        positive\n",
       "7         neutral\n",
       "8         neutral\n",
       "9        positive\n",
       "10        neutral\n",
       "11       positive\n",
       "12       negative\n",
       "13       negative\n",
       "14        neutral\n",
       "15       negative\n",
       "16       negative\n",
       "17       negative\n",
       "18       negative\n",
       "19        neutral\n",
       "20        neutral\n",
       "21       positive\n",
       "22        neutral\n",
       "23        neutral\n",
       "24        neutral\n",
       "25       positive\n",
       "26       negative\n",
       "27       negative\n",
       "28       positive\n",
       "29       negative\n",
       "           ...   \n",
       "27451    positive\n",
       "27452     neutral\n",
       "27453     neutral\n",
       "27454    positive\n",
       "27455    positive\n",
       "27456    negative\n",
       "27457     neutral\n",
       "27458    positive\n",
       "27459    positive\n",
       "27460     neutral\n",
       "27461    positive\n",
       "27462    positive\n",
       "27463    negative\n",
       "27464    negative\n",
       "27465    positive\n",
       "27466     neutral\n",
       "27467    positive\n",
       "27468     neutral\n",
       "27469     neutral\n",
       "27470    negative\n",
       "27471     neutral\n",
       "27472    negative\n",
       "27473     neutral\n",
       "27474    positive\n",
       "27475    positive\n",
       "27476    negative\n",
       "27477    negative\n",
       "27478    positive\n",
       "27479    positive\n",
       "27480     neutral\n",
       "Name: sentiment, Length: 27480, dtype: object"
      ]
     },
     "execution_count": 10,
     "metadata": {},
     "output_type": "execute_result"
    }
   ],
   "source": [
    "y"
   ]
  },
  {
   "cell_type": "code",
   "execution_count": 11,
   "metadata": {
    "id": "n4DD35CVisvS"
   },
   "outputs": [],
   "source": [
    "#application of label encoding and tranforming y\n",
    "y = LabelEncoder().fit_transform(y)\n"
   ]
  },
  {
   "cell_type": "code",
   "execution_count": 12,
   "metadata": {
    "colab": {
     "base_uri": "https://localhost:8080/"
    },
    "id": "CiWm8L5kisvT",
    "outputId": "54f65a8a-3fde-4d51-9cbc-a4eb213bb455"
   },
   "outputs": [
    {
     "data": {
      "text/plain": [
       "array([1, 0, 0, ..., 2, 2, 1])"
      ]
     },
     "execution_count": 12,
     "metadata": {},
     "output_type": "execute_result"
    }
   ],
   "source": [
    "y\n"
   ]
  },
  {
   "cell_type": "code",
   "execution_count": 13,
   "metadata": {
    "id": "V0rY8f8AisvT"
   },
   "outputs": [],
   "source": [
    "#Coverting the string to lower case and iterating through the words and appending them to the list if the word is not a for X\n",
    "X = X.str.lower()\n",
    "\n",
    "lst = []\n",
    "for phase_word in X:\n",
    "    lst.append(\" \".join([re.sub('[0-9\\W_]', '', word) for word in phase_word.split() if not word in sw]))\n",
    "X = lst"
   ]
  },
  {
   "cell_type": "code",
   "execution_count": 14,
   "metadata": {
    "id": "g82qw-X7KyJQ"
   },
   "outputs": [],
   "source": [
    "#Coverting the string to lower case and iterating through the words and appending them to the list if the word is not a for X_test\n",
    "X_test = X_test.str.lower()\n",
    "\n",
    "lst = []\n",
    "for phase_word in X_test:\n",
    "    lst.append(\" \".join([re.sub('[0-9\\W_]', '', word) for word in phase_word.split() if not word in sw]))\n",
    "X_test = lst"
   ]
  },
  {
   "cell_type": "code",
   "execution_count": 15,
   "metadata": {
    "id": "kkAd_jnXisvT"
   },
   "outputs": [],
   "source": [
    "#iterating through the word list for each sentence and assigning to tokens\n",
    "for i in range(len(X)):\n",
    "    X[i] = word_tokenize(X[i])"
   ]
  },
  {
   "cell_type": "code",
   "execution_count": 16,
   "metadata": {
    "id": "G30aMzcBK91c"
   },
   "outputs": [],
   "source": [
    "#iterating through the word list for each sentence and assigning to tokens\n",
    "for i in range(len(X_test)):\n",
    "    X_test[i] = word_tokenize(X_test[i])"
   ]
  },
  {
   "cell_type": "code",
   "execution_count": 17,
   "metadata": {
    "colab": {
     "base_uri": "https://localhost:8080/"
    },
    "id": "qL8cF9A9isvU",
    "outputId": "799797ec-8a17-4b5d-a2e4-178ab4809f2c"
   },
   "outputs": [
    {
     "name": "stderr",
     "output_type": "stream",
     "text": [
      "/home/sanju/anaconda3/lib/python3.7/site-packages/ipykernel_launcher.py:1: VisibleDeprecationWarning: Creating an ndarray from ragged nested sequences (which is a list-or-tuple of lists-or-tuples-or ndarrays with different lengths or shapes) is deprecated. If you meant to do this, you must specify 'dtype=object' when creating the ndarray\n",
      "  \"\"\"Entry point for launching an IPython kernel.\n"
     ]
    }
   ],
   "source": [
    "X_train, X_val, y_train, y_val = train_test_split(np.array(X), y, test_size=0.2) "
   ]
  },
  {
   "cell_type": "code",
   "execution_count": 18,
   "metadata": {
    "id": "GRm7VLA5isvU"
   },
   "outputs": [],
   "source": [
    "f = open('glove.6B.50d.txt')\n",
    "\n",
    "embeddings_index = {}\n",
    "cnt = 0\n",
    "for line in f:\n",
    "    values = line.split()\n",
    "    word = values[0]\n",
    "    coefs = np.asarray(values[1:], dtype='float')\n",
    "    embeddings_index[word] = coefs\n",
    "f.close()"
   ]
  },
  {
   "cell_type": "code",
   "execution_count": 19,
   "metadata": {
    "id": "vQaAPMNnisvV"
   },
   "outputs": [],
   "source": [
    "def embedding_output(X):\n",
    "  max_len=50\n",
    "  emb_dim=50\n",
    "  embedding_out = np.zeros((len(X), max_len, emb_dim))\n",
    "\n",
    "\n",
    "  for ix in range(len(X)):\n",
    "    for ij in range(len(X[ix])):\n",
    "      try:\n",
    "        embedding_out[ix][ij] = embeddings_index[X[ix][ij].lower()]\n",
    "      except: \n",
    "        embedding_out[ix][ij] = np.zeros((50, ))\n",
    "\n",
    "  return embedding_out"
   ]
  },
  {
   "cell_type": "code",
   "execution_count": 20,
   "metadata": {
    "id": "n9GrJjN7isvV"
   },
   "outputs": [],
   "source": [
    "#assigning embedding matrix for training and validation sets\n",
    "embedding_matrix_train = embedding_output(X_train)\n",
    "embedding_matrix_val = embedding_output(X_val)\n",
    "embedding_matrix_test=embedding_output(X_test)"
   ]
  },
  {
   "cell_type": "code",
   "execution_count": 21,
   "metadata": {
    "colab": {
     "base_uri": "https://localhost:8080/"
    },
    "id": "bPSOMyp3isvV",
    "outputId": "9e1518c0-6c5f-4ad8-a208-9949960b70c9"
   },
   "outputs": [
    {
     "data": {
      "text/plain": [
       "(21984, 50, 50)"
      ]
     },
     "execution_count": 21,
     "metadata": {},
     "output_type": "execute_result"
    }
   ],
   "source": [
    "embedding_matrix_train.shape"
   ]
  },
  {
   "cell_type": "code",
   "execution_count": 22,
   "metadata": {
    "cellView": "code",
    "colab": {
     "base_uri": "https://localhost:8080/"
    },
    "id": "k2XMbQ4zisvW",
    "outputId": "f4c2a18a-ad45-453b-9e96-948986e344b9"
   },
   "outputs": [
    {
     "name": "stdout",
     "output_type": "stream",
     "text": [
      "Epoch 1/15\n",
      "687/687 [==============================] - 7s 11ms/step - loss: 0.9695 - accuracy: 0.5225 - val_loss: 0.8636 - val_accuracy: 0.6112\n",
      "Epoch 2/15\n",
      "687/687 [==============================] - 7s 10ms/step - loss: 0.8516 - accuracy: 0.6303 - val_loss: 0.8105 - val_accuracy: 0.6470\n",
      "Epoch 3/15\n",
      "687/687 [==============================] - 7s 10ms/step - loss: 0.8000 - accuracy: 0.6581 - val_loss: 0.7765 - val_accuracy: 0.6659\n",
      "Epoch 4/15\n",
      "687/687 [==============================] - 7s 10ms/step - loss: 0.7712 - accuracy: 0.6779 - val_loss: 0.7916 - val_accuracy: 0.6723\n",
      "Epoch 5/15\n",
      "687/687 [==============================] - 7s 10ms/step - loss: 0.7535 - accuracy: 0.6856 - val_loss: 0.7596 - val_accuracy: 0.6830\n",
      "Epoch 6/15\n",
      "687/687 [==============================] - 7s 10ms/step - loss: 0.7348 - accuracy: 0.6957 - val_loss: 0.7663 - val_accuracy: 0.6767\n",
      "Epoch 7/15\n",
      "687/687 [==============================] - 7s 10ms/step - loss: 0.7195 - accuracy: 0.7084 - val_loss: 0.7514 - val_accuracy: 0.6750\n",
      "Epoch 8/15\n",
      "687/687 [==============================] - 7s 10ms/step - loss: 0.7007 - accuracy: 0.7129 - val_loss: 0.7375 - val_accuracy: 0.6916\n",
      "Epoch 9/15\n",
      "687/687 [==============================] - 7s 10ms/step - loss: 0.6852 - accuracy: 0.7213 - val_loss: 0.7413 - val_accuracy: 0.6870\n",
      "Epoch 10/15\n",
      "687/687 [==============================] - 7s 10ms/step - loss: 0.6732 - accuracy: 0.7265 - val_loss: 0.7418 - val_accuracy: 0.6838\n",
      "Epoch 11/15\n",
      "687/687 [==============================] - 7s 11ms/step - loss: 0.6581 - accuracy: 0.7364 - val_loss: 0.7258 - val_accuracy: 0.6910\n",
      "Epoch 12/15\n",
      "687/687 [==============================] - 7s 10ms/step - loss: 0.6472 - accuracy: 0.7421 - val_loss: 0.7557 - val_accuracy: 0.6810\n",
      "Epoch 13/15\n",
      "687/687 [==============================] - 7s 10ms/step - loss: 0.6317 - accuracy: 0.7522 - val_loss: 0.7363 - val_accuracy: 0.6905\n",
      "Epoch 14/15\n",
      "687/687 [==============================] - 7s 10ms/step - loss: 0.6154 - accuracy: 0.7598 - val_loss: 0.7613 - val_accuracy: 0.6759\n",
      "Epoch 15/15\n",
      "687/687 [==============================] - 8s 12ms/step - loss: 0.6026 - accuracy: 0.7659 - val_loss: 0.7991 - val_accuracy: 0.6714\n"
     ]
    }
   ],
   "source": [
    "#creating the model for Tweet sentiment extraction and compiling it\n",
    "model = Sequential()\n",
    "model.add(LSTM(64, input_shape=(50, 50)))\n",
    "model.add(Dropout(0.5))\n",
    "model.add(Dense(units=3, activation='softmax'))\n",
    "model.compile(loss='sparse_categorical_crossentropy', optimizer='adam', metrics=['accuracy'])\n",
    "prediction=model.predict\n",
    "hist = model.fit(embedding_matrix_train, y_train, epochs=15, validation_data=(embedding_matrix_val, y_val))\n"
   ]
  },
  {
   "cell_type": "code",
   "execution_count": 23,
   "metadata": {
    "colab": {
     "base_uri": "https://localhost:8080/"
    },
    "id": "7rutOmzyisvW",
    "outputId": "4e4c0181-9023-4896-ee75-5d7e79b9fa27"
   },
   "outputs": [
    {
     "data": {
      "text/plain": [
       "array([[0.8168142 , 0.14753218, 0.03565368],\n",
       "       [0.8641808 , 0.11123656, 0.02458262],\n",
       "       [0.05906102, 0.88458735, 0.05635171],\n",
       "       [0.96138555, 0.03174026, 0.00687418],\n",
       "       [0.50477886, 0.37041605, 0.12480503],\n",
       "       [0.11619938, 0.5580887 , 0.32571188],\n",
       "       [0.95458037, 0.03714102, 0.00827853],\n",
       "       [0.01457619, 0.05570506, 0.9297188 ],\n",
       "       [0.01069314, 0.03520695, 0.95409995],\n",
       "       [0.953515  , 0.03834991, 0.0081351 ]], dtype=float32)"
      ]
     },
     "execution_count": 23,
     "metadata": {},
     "output_type": "execute_result"
    }
   ],
   "source": [
    "model.predict(embedding_matrix_val[0:10])"
   ]
  },
  {
   "cell_type": "code",
   "execution_count": 24,
   "metadata": {
    "colab": {
     "base_uri": "https://localhost:8080/"
    },
    "id": "6sWd2IPZisvX",
    "outputId": "a6bed8f5-629a-46b4-9582-7a18bf150a2c"
   },
   "outputs": [
    {
     "data": {
      "text/plain": [
       "array([0, 0, 1, 0, 0, 1, 0, 2, 2, 0])"
      ]
     },
     "execution_count": 24,
     "metadata": {},
     "output_type": "execute_result"
    }
   ],
   "source": [
    "y_val[0:10]"
   ]
  },
  {
   "cell_type": "code",
   "execution_count": 25,
   "metadata": {
    "id": "5HtWnpMtisvX"
   },
   "outputs": [],
   "source": [
    "# Define metrics\n",
    "y_pred = model.predict(embedding_matrix_test)\n",
    "pred = []\n",
    "for i in range(len(X_test)):\n",
    "   pred.append(np.argmax(y_pred[i]))"
   ]
  },
  {
   "cell_type": "code",
   "execution_count": 26,
   "metadata": {
    "id": "9eKYTdgGisvX"
   },
   "outputs": [],
   "source": [
    "pred = np.array(pred)"
   ]
  },
  {
   "cell_type": "code",
   "execution_count": 27,
   "metadata": {
    "colab": {
     "base_uri": "https://localhost:8080/"
    },
    "id": "cJR7XX_D4pkv",
    "outputId": "18ca36e6-228d-4388-a77c-c40c1bdc47a1"
   },
   "outputs": [
    {
     "data": {
      "text/plain": [
       "0.6672028878138687"
      ]
     },
     "execution_count": 27,
     "metadata": {},
     "output_type": "execute_result"
    }
   ],
   "source": [
    "#calculating the f1 score for the model\n",
    "f1_score(y_test, pred, average='macro')"
   ]
  },
  {
   "cell_type": "code",
   "execution_count": 28,
   "metadata": {
    "colab": {
     "base_uri": "https://localhost:8080/"
    },
    "id": "yqa1YnoTTwMP",
    "outputId": "6bc1f5ad-6658-41de-b0f9-9fd2dc80accb"
   },
   "outputs": [
    {
     "data": {
      "text/plain": [
       "0.670677947015209"
      ]
     },
     "execution_count": 28,
     "metadata": {},
     "output_type": "execute_result"
    }
   ],
   "source": [
    "#calculating the recall score for the model\n",
    "recall_score(y_test, pred, average='macro')"
   ]
  },
  {
   "cell_type": "code",
   "execution_count": 34,
   "metadata": {
    "id": "zIsnZkv4VDou"
   },
   "outputs": [
    {
     "data": {
      "text/plain": [
       "0.6618562535370685"
      ]
     },
     "execution_count": 34,
     "metadata": {},
     "output_type": "execute_result"
    }
   ],
   "source": [
    "accuracy_score(y_test, pred)"
   ]
  },
  {
   "cell_type": "code",
   "execution_count": 29,
   "metadata": {
    "colab": {
     "base_uri": "https://localhost:8080/"
    },
    "id": "SSbhS8dsTkHI",
    "outputId": "9f00d364-174c-4b62-b6b6-6f6189eee6b4"
   },
   "outputs": [
    {
     "data": {
      "text/plain": [
       "0.6725857862310235"
      ]
     },
     "execution_count": 29,
     "metadata": {},
     "output_type": "execute_result"
    }
   ],
   "source": [
    "#calculating the precision score for the model\n",
    "precision_score(y_test, pred, average=\"macro\")"
   ]
  },
  {
   "cell_type": "code",
   "execution_count": 30,
   "metadata": {
    "colab": {
     "base_uri": "https://localhost:8080/"
    },
    "id": "1R9tl54sTymn",
    "outputId": "d378118e-8d71-424e-88f1-69e3138e6503"
   },
   "outputs": [
    {
     "data": {
      "text/plain": [
       "0.6618562535370685"
      ]
     },
     "execution_count": 30,
     "metadata": {},
     "output_type": "execute_result"
    }
   ],
   "source": [
    "#calculating the accuracy score for the model\n",
    "accuracy_score(y_test, pred)"
   ]
  },
  {
   "cell_type": "code",
   "execution_count": 31,
   "metadata": {
    "colab": {
     "base_uri": "https://localhost:8080/"
    },
    "id": "WqKKagCcWmdi",
    "outputId": "0afd852b-093b-48f8-e583-029266bcd906"
   },
   "outputs": [
    {
     "name": "stdout",
     "output_type": "stream",
     "text": [
      "Model: \"sequential\"\n",
      "_________________________________________________________________\n",
      "Layer (type)                 Output Shape              Param #   \n",
      "=================================================================\n",
      "lstm (LSTM)                  (None, 64)                29440     \n",
      "_________________________________________________________________\n",
      "dropout (Dropout)            (None, 64)                0         \n",
      "_________________________________________________________________\n",
      "dense (Dense)                (None, 3)                 195       \n",
      "=================================================================\n",
      "Total params: 29,635\n",
      "Trainable params: 29,635\n",
      "Non-trainable params: 0\n",
      "_________________________________________________________________\n"
     ]
    }
   ],
   "source": [
    "#Display the architecture of the model\n",
    "model.summary()\n"
   ]
  },
  {
   "cell_type": "code",
   "execution_count": null,
   "metadata": {},
   "outputs": [],
   "source": []
  },
  {
   "cell_type": "code",
   "execution_count": null,
   "metadata": {},
   "outputs": [],
   "source": []
  },
  {
   "cell_type": "code",
   "execution_count": null,
   "metadata": {},
   "outputs": [],
   "source": []
  }
 ],
 "metadata": {
  "accelerator": "GPU",
  "colab": {
   "collapsed_sections": [],
   "name": "Baseline.ipynb",
   "provenance": []
  },
  "kernelspec": {
   "display_name": "Python 3",
   "language": "python",
   "name": "python3"
  },
  "language_info": {
   "codemirror_mode": {
    "name": "ipython",
    "version": 3
   },
   "file_extension": ".py",
   "mimetype": "text/x-python",
   "name": "python",
   "nbconvert_exporter": "python",
   "pygments_lexer": "ipython3",
   "version": "3.7.6"
  }
 },
 "nbformat": 4,
 "nbformat_minor": 4
}
