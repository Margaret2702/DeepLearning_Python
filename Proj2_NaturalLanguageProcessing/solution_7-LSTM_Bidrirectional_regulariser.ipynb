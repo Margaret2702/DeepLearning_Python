{
  "nbformat": 4,
  "nbformat_minor": 0,
  "metadata": {
    "kernelspec": {
      "display_name": "Python 3",
      "language": "python",
      "name": "python3"
    },
    "language_info": {
      "codemirror_mode": {
        "name": "ipython",
        "version": 3
      },
      "file_extension": ".py",
      "mimetype": "text/x-python",
      "name": "python",
      "nbconvert_exporter": "python",
      "pygments_lexer": "ipython3",
      "version": "3.8.5"
    },
    "colab": {
      "name": "LSTM_Bidrirectional_regulariser.ipynb",
      "provenance": [],
      "collapsed_sections": [],
      "toc_visible": true
    },
    "accelerator": "GPU"
  },
  "cells": [
    {
      "cell_type": "code",
      "metadata": {
        "colab": {
          "base_uri": "https://localhost:8080/"
        },
        "id": "ChKfzE2LisvB",
        "outputId": "007044f7-c72b-417a-809b-f12d4c069cb4"
      },
      "source": [
        "#importing libraries : Pandas,numpy,string,regular expression,natural language tool kit,Scikit-learn,tensorflow,keras\n",
        "import pandas as pd\n",
        "import numpy as np\n",
        "import string\n",
        "import re\n",
        "import nltk\n",
        "#downloading the punctuations and stopwords from natural language toolkit\n",
        "nltk.download('punkt')\n",
        "nltk.download('stopwords')\n",
        "#importing stopwords for the tweets\n",
        "from nltk.corpus import stopwords\n",
        "sw = stopwords.words('english')\n",
        "from sklearn.model_selection import train_test_split\n",
        "from tensorflow.keras.models import Sequential\n",
        "#importing the layers required for the model\n",
        "from tensorflow.keras.layers import Dense, LSTM,Bidirectional, Dropout,MaxPool2D,Conv1D,MaxPool1D,RNN,SimpleRNN,LSTMCell,TimeDistributed,GRU,GRUCell\n",
        "#importing the label encoding\n",
        "from sklearn.preprocessing import LabelEncoder\n",
        "#importing tokenizers from natural language toolkit\n",
        "from nltk.tokenize import word_tokenize, sent_tokenize\n",
        "#importing the embedding layer\n",
        "from keras.layers import Embedding\n",
        "#importing metrics\n",
        "from sklearn.metrics import f1_score, precision_score, recall_score,accuracy_score\n",
        "#importing regularizers\n",
        "from tensorflow.keras import regularizers\n",
        "#importing lasso and ridge regression\n",
        "from keras.regularizers import l2,l1\n",
        "#importing matplotlib\n",
        "import matplotlib.pyplot as plt\n",
        "\n"
      ],
      "execution_count": null,
      "outputs": [
        {
          "output_type": "stream",
          "text": [
            "[nltk_data] Downloading package punkt to /root/nltk_data...\n",
            "[nltk_data]   Unzipping tokenizers/punkt.zip.\n",
            "[nltk_data] Downloading package stopwords to /root/nltk_data...\n",
            "[nltk_data]   Unzipping corpora/stopwords.zip.\n"
          ],
          "name": "stdout"
        }
      ]
    },
    {
      "cell_type": "code",
      "metadata": {
        "id": "zU65df-JisvN"
      },
      "source": [
        "#reading the training dataset\n",
        "data = pd.read_csv('train.csv')"
      ],
      "execution_count": null,
      "outputs": []
    },
    {
      "cell_type": "code",
      "metadata": {
        "id": "H7f693hBJUgc"
      },
      "source": [
        "#reading the training dataset\n",
        "testdata = pd.read_csv('test.csv')"
      ],
      "execution_count": null,
      "outputs": []
    },
    {
      "cell_type": "code",
      "metadata": {
        "colab": {
          "base_uri": "https://localhost:8080/",
          "height": 190
        },
        "id": "93Cgm2EgisvO",
        "outputId": "5b626be5-2236-4539-f409-42b4632d0243"
      },
      "source": [
        "#reading headers in training data\n",
        "data.head()"
      ],
      "execution_count": null,
      "outputs": [
        {
          "output_type": "execute_result",
          "data": {
            "text/html": [
              "<div>\n",
              "<style scoped>\n",
              "    .dataframe tbody tr th:only-of-type {\n",
              "        vertical-align: middle;\n",
              "    }\n",
              "\n",
              "    .dataframe tbody tr th {\n",
              "        vertical-align: top;\n",
              "    }\n",
              "\n",
              "    .dataframe thead th {\n",
              "        text-align: right;\n",
              "    }\n",
              "</style>\n",
              "<table border=\"1\" class=\"dataframe\">\n",
              "  <thead>\n",
              "    <tr style=\"text-align: right;\">\n",
              "      <th></th>\n",
              "      <th>textID</th>\n",
              "      <th>text</th>\n",
              "      <th>selected_text</th>\n",
              "      <th>sentiment</th>\n",
              "    </tr>\n",
              "  </thead>\n",
              "  <tbody>\n",
              "    <tr>\n",
              "      <th>0</th>\n",
              "      <td>cb774db0d1</td>\n",
              "      <td>I`d have responded, if I were going</td>\n",
              "      <td>I`d have responded, if I were going</td>\n",
              "      <td>neutral</td>\n",
              "    </tr>\n",
              "    <tr>\n",
              "      <th>1</th>\n",
              "      <td>549e992a42</td>\n",
              "      <td>Sooo SAD I will miss you here in San Diego!!!</td>\n",
              "      <td>Sooo SAD</td>\n",
              "      <td>negative</td>\n",
              "    </tr>\n",
              "    <tr>\n",
              "      <th>2</th>\n",
              "      <td>088c60f138</td>\n",
              "      <td>my boss is bullying me...</td>\n",
              "      <td>bullying me</td>\n",
              "      <td>negative</td>\n",
              "    </tr>\n",
              "    <tr>\n",
              "      <th>3</th>\n",
              "      <td>9642c003ef</td>\n",
              "      <td>what interview! leave me alone</td>\n",
              "      <td>leave me alone</td>\n",
              "      <td>negative</td>\n",
              "    </tr>\n",
              "    <tr>\n",
              "      <th>4</th>\n",
              "      <td>358bd9e861</td>\n",
              "      <td>Sons of ****, why couldn`t they put them on t...</td>\n",
              "      <td>Sons of ****,</td>\n",
              "      <td>negative</td>\n",
              "    </tr>\n",
              "  </tbody>\n",
              "</table>\n",
              "</div>"
            ],
            "text/plain": [
              "       textID  ... sentiment\n",
              "0  cb774db0d1  ...   neutral\n",
              "1  549e992a42  ...  negative\n",
              "2  088c60f138  ...  negative\n",
              "3  9642c003ef  ...  negative\n",
              "4  358bd9e861  ...  negative\n",
              "\n",
              "[5 rows x 4 columns]"
            ]
          },
          "metadata": {
            "tags": []
          },
          "execution_count": 4
        }
      ]
    },
    {
      "cell_type": "code",
      "metadata": {
        "id": "Y4X_w4IzisvQ"
      },
      "source": [
        "#removing the blank spaces\n",
        "data = data.dropna()"
      ],
      "execution_count": null,
      "outputs": []
    },
    {
      "cell_type": "code",
      "metadata": {
        "id": "7ME6IIw3isvQ"
      },
      "source": [
        "#Assigning the text in the dataset to variable X\n",
        "X = data['text']"
      ],
      "execution_count": null,
      "outputs": []
    },
    {
      "cell_type": "code",
      "metadata": {
        "id": "oeA6GQ9FKMP-"
      },
      "source": [
        "#test variables\n",
        "X_test=testdata['text']\n",
        "y_test=testdata['sentiment']\n",
        "y_test=LabelEncoder().fit_transform(y_test)"
      ],
      "execution_count": null,
      "outputs": []
    },
    {
      "cell_type": "code",
      "metadata": {
        "id": "xZ5-PtCrisvQ"
      },
      "source": [
        "#Assigning the sentiment in the dataset to variable Y\n",
        "y = data['sentiment']"
      ],
      "execution_count": null,
      "outputs": []
    },
    {
      "cell_type": "code",
      "metadata": {
        "colab": {
          "base_uri": "https://localhost:8080/"
        },
        "id": "WIpW5TRRisvR",
        "outputId": "f99b070f-4846-4241-8365-6cd205277ecc"
      },
      "source": [
        "y"
      ],
      "execution_count": null,
      "outputs": [
        {
          "output_type": "execute_result",
          "data": {
            "text/plain": [
              "0         neutral\n",
              "1        negative\n",
              "2        negative\n",
              "3        negative\n",
              "4        negative\n",
              "           ...   \n",
              "27476    negative\n",
              "27477    negative\n",
              "27478    positive\n",
              "27479    positive\n",
              "27480     neutral\n",
              "Name: sentiment, Length: 27480, dtype: object"
            ]
          },
          "metadata": {
            "tags": []
          },
          "execution_count": 10
        }
      ]
    },
    {
      "cell_type": "code",
      "metadata": {
        "id": "n4DD35CVisvS"
      },
      "source": [
        "#application of label encoding and tranforming y\n",
        "y = LabelEncoder().fit_transform(y)\n"
      ],
      "execution_count": null,
      "outputs": []
    },
    {
      "cell_type": "code",
      "metadata": {
        "colab": {
          "base_uri": "https://localhost:8080/"
        },
        "id": "CiWm8L5kisvT",
        "outputId": "1a2b8fb4-5ed8-43b8-ec39-853daccc0d4e"
      },
      "source": [
        "#Visualising y after transformation\n",
        "y\n"
      ],
      "execution_count": null,
      "outputs": [
        {
          "output_type": "execute_result",
          "data": {
            "text/plain": [
              "array([1, 0, 0, ..., 2, 2, 1])"
            ]
          },
          "metadata": {
            "tags": []
          },
          "execution_count": 12
        }
      ]
    },
    {
      "cell_type": "code",
      "metadata": {
        "id": "V0rY8f8AisvT"
      },
      "source": [
        "#Coverting the string to lower case and iterating through the words and appending them to the list if the word is not a for X\n",
        "X = X.str.lower()\n",
        "\n",
        "lst = []\n",
        "for phase_word in X:\n",
        "    lst.append(\" \".join([re.sub('[0-9\\W_]', '', word) for word in phase_word.split() if not word in sw]))\n",
        "X = lst"
      ],
      "execution_count": null,
      "outputs": []
    },
    {
      "cell_type": "code",
      "metadata": {
        "id": "g82qw-X7KyJQ"
      },
      "source": [
        "#Coverting the string to lower case and iterating through the words and appending them to the list if the word is not a for X_test\n",
        "X_test = X_test.str.lower()\n",
        "\n",
        "lst = []\n",
        "for phase_word in X_test:\n",
        "    lst.append(\" \".join([re.sub('[0-9\\W_]', '', word) for word in phase_word.split() if not word in sw]))\n",
        "X_test = lst"
      ],
      "execution_count": null,
      "outputs": []
    },
    {
      "cell_type": "code",
      "metadata": {
        "id": "kkAd_jnXisvT"
      },
      "source": [
        "#iterating through the word list for each sentence and assigning to tokens\n",
        "for i in range(len(X)):\n",
        "    X[i] = word_tokenize(X[i])"
      ],
      "execution_count": null,
      "outputs": []
    },
    {
      "cell_type": "code",
      "metadata": {
        "id": "G30aMzcBK91c"
      },
      "source": [
        "#iterating through the word list for each sentence and assigning to tokens\n",
        "for i in range(len(X_test)):\n",
        "    X_test[i] = word_tokenize(X_test[i])"
      ],
      "execution_count": null,
      "outputs": []
    },
    {
      "cell_type": "markdown",
      "metadata": {
        "id": "PXsLk_BrxCPu"
      },
      "source": [
        ""
      ]
    },
    {
      "cell_type": "markdown",
      "metadata": {
        "id": "xolVo2cRQZZP"
      },
      "source": [
        ""
      ]
    },
    {
      "cell_type": "markdown",
      "metadata": {
        "id": "K_f4zk2HQZVh"
      },
      "source": [
        ""
      ]
    },
    {
      "cell_type": "code",
      "metadata": {
        "colab": {
          "base_uri": "https://localhost:8080/"
        },
        "id": "qL8cF9A9isvU",
        "outputId": "6b5dab13-6e04-4507-a509-bb44e91cbef1"
      },
      "source": [
        "#Splitting the training set into validation and training \n",
        "X_train, X_val, y_train, y_val = train_test_split(np.array(X), y, test_size=0.2) "
      ],
      "execution_count": null,
      "outputs": [
        {
          "output_type": "stream",
          "text": [
            "/usr/local/lib/python3.7/dist-packages/ipykernel_launcher.py:1: VisibleDeprecationWarning: Creating an ndarray from ragged nested sequences (which is a list-or-tuple of lists-or-tuples-or ndarrays with different lengths or shapes) is deprecated. If you meant to do this, you must specify 'dtype=object' when creating the ndarray\n",
            "  \"\"\"Entry point for launching an IPython kernel.\n"
          ],
          "name": "stderr"
        }
      ]
    },
    {
      "cell_type": "code",
      "metadata": {
        "id": "GRm7VLA5isvU"
      },
      "source": [
        "#Reading the glove vector file and retrieving the embedding index\n",
        "  f = open('glove.6B.50d.txt')\n",
        "\n",
        "  embeddings_index = {}\n",
        "  cnt = 0\n",
        "  for line in f:\n",
        "      values = line.split()\n",
        "      word = values[0]\n",
        "      coefs = np.asarray(values[1:], dtype='float')\n",
        "      embeddings_index[word] = coefs\n",
        "  f.close()"
      ],
      "execution_count": null,
      "outputs": []
    },
    {
      "cell_type": "code",
      "metadata": {
        "id": "vQaAPMNnisvV"
      },
      "source": [
        "#creating a method for embedding\n",
        "def embedding_output(X):\n",
        "  max_len=50\n",
        "  emb_dim=50\n",
        "  embedding_out = np.zeros((len(X), max_len, emb_dim))\n",
        "\n",
        "\n",
        "  for ix in range(len(X)):\n",
        "    for ij in range(len(X[ix])):\n",
        "      try:\n",
        "        embedding_out[ix][ij] = embeddings_index[X[ix][ij].lower()]\n",
        "      except: \n",
        "        embedding_out[ix][ij] = np.zeros((50, ))\n",
        "\n",
        "  return embedding_out"
      ],
      "execution_count": null,
      "outputs": []
    },
    {
      "cell_type": "markdown",
      "metadata": {
        "id": "o4iMLyV3JMiz"
      },
      "source": [
        ""
      ]
    },
    {
      "cell_type": "code",
      "metadata": {
        "id": "n9GrJjN7isvV"
      },
      "source": [
        "#assigning embedding matrix for training and validation sets\n",
        "embedding_matrix_train = embedding_output(X_train)\n",
        "embedding_matrix_val = embedding_output(X_val)\n",
        "embedding_matrix_test=embedding_output(X_test)"
      ],
      "execution_count": null,
      "outputs": []
    },
    {
      "cell_type": "code",
      "metadata": {
        "colab": {
          "base_uri": "https://localhost:8080/"
        },
        "id": "bPSOMyp3isvV",
        "outputId": "ab69e0e6-a271-4af0-fcf2-3fcb2fe5e85f"
      },
      "source": [
        "#Visualizing the shape of embedding matrix\n",
        "embedding_matrix_train.shape"
      ],
      "execution_count": null,
      "outputs": [
        {
          "output_type": "execute_result",
          "data": {
            "text/plain": [
              "(21984, 50, 50)"
            ]
          },
          "metadata": {
            "tags": []
          },
          "execution_count": 21
        }
      ]
    },
    {
      "cell_type": "code",
      "metadata": {
        "colab": {
          "base_uri": "https://localhost:8080/"
        },
        "cellView": "code",
        "id": "k2XMbQ4zisvW",
        "outputId": "734a5ba0-760c-4c4f-ce38-e0382224be25"
      },
      "source": [
        "#creating the model for Tweet sentiment extraction and compiling it\n",
        "model = Sequential()\n",
        "model.add(Bidirectional(LSTM((15), input_shape=(50, 50))))\n",
        "model.add(Dropout(0.4))\n",
        "model.add(Dense(units=12, activation='softmax',kernel_regularizer='l1',bias_regularizer='l1'))\n",
        "model.compile(loss='sparse_categorical_crossentropy', optimizer='nadam', metrics=['accuracy'])\n",
        "prediction=model.predict\n",
        "hist = model.fit(embedding_matrix_train, y_train, epochs=40, validation_data=(embedding_matrix_val, y_val))\n",
        "\n"
      ],
      "execution_count": null,
      "outputs": [
        {
          "output_type": "stream",
          "text": [
            "Epoch 1/40\n",
            "687/687 [==============================] - 37s 11ms/step - loss: 1.8831 - accuracy: 0.3732 - val_loss: 1.1517 - val_accuracy: 0.5573\n",
            "Epoch 2/40\n",
            "687/687 [==============================] - 6s 9ms/step - loss: 1.1672 - accuracy: 0.5349 - val_loss: 1.0841 - val_accuracy: 0.6250\n",
            "Epoch 3/40\n",
            "687/687 [==============================] - 6s 9ms/step - loss: 1.1001 - accuracy: 0.6032 - val_loss: 1.0545 - val_accuracy: 0.6396\n",
            "Epoch 4/40\n",
            "687/687 [==============================] - 6s 9ms/step - loss: 1.0767 - accuracy: 0.6231 - val_loss: 1.0391 - val_accuracy: 0.6492\n",
            "Epoch 5/40\n",
            "687/687 [==============================] - 6s 9ms/step - loss: 1.0624 - accuracy: 0.6326 - val_loss: 1.0283 - val_accuracy: 0.6547\n",
            "Epoch 6/40\n",
            "687/687 [==============================] - 6s 9ms/step - loss: 1.0562 - accuracy: 0.6363 - val_loss: 1.0268 - val_accuracy: 0.6563\n",
            "Epoch 7/40\n",
            "687/687 [==============================] - 6s 9ms/step - loss: 1.0555 - accuracy: 0.6365 - val_loss: 1.0209 - val_accuracy: 0.6592\n",
            "Epoch 8/40\n",
            "687/687 [==============================] - 6s 9ms/step - loss: 1.0429 - accuracy: 0.6493 - val_loss: 1.0125 - val_accuracy: 0.6652\n",
            "Epoch 9/40\n",
            "687/687 [==============================] - 6s 9ms/step - loss: 1.0460 - accuracy: 0.6480 - val_loss: 1.0123 - val_accuracy: 0.6625\n",
            "Epoch 10/40\n",
            "687/687 [==============================] - 6s 9ms/step - loss: 1.0360 - accuracy: 0.6575 - val_loss: 1.0064 - val_accuracy: 0.6694\n",
            "Epoch 11/40\n",
            "687/687 [==============================] - 6s 9ms/step - loss: 1.0339 - accuracy: 0.6514 - val_loss: 1.0041 - val_accuracy: 0.6694\n",
            "Epoch 12/40\n",
            "687/687 [==============================] - 6s 9ms/step - loss: 1.0285 - accuracy: 0.6621 - val_loss: 1.0005 - val_accuracy: 0.6696\n",
            "Epoch 13/40\n",
            "687/687 [==============================] - 6s 9ms/step - loss: 1.0213 - accuracy: 0.6626 - val_loss: 1.0037 - val_accuracy: 0.6689\n",
            "Epoch 14/40\n",
            "687/687 [==============================] - 6s 9ms/step - loss: 1.0236 - accuracy: 0.6628 - val_loss: 1.0013 - val_accuracy: 0.6685\n",
            "Epoch 15/40\n",
            "687/687 [==============================] - 6s 9ms/step - loss: 1.0214 - accuracy: 0.6645 - val_loss: 0.9960 - val_accuracy: 0.6710\n",
            "Epoch 16/40\n",
            "687/687 [==============================] - 6s 9ms/step - loss: 1.0188 - accuracy: 0.6620 - val_loss: 0.9953 - val_accuracy: 0.6767\n",
            "Epoch 17/40\n",
            "687/687 [==============================] - 6s 9ms/step - loss: 1.0191 - accuracy: 0.6691 - val_loss: 0.9963 - val_accuracy: 0.6736\n",
            "Epoch 18/40\n",
            "687/687 [==============================] - 6s 9ms/step - loss: 1.0148 - accuracy: 0.6661 - val_loss: 0.9931 - val_accuracy: 0.6736\n",
            "Epoch 19/40\n",
            "687/687 [==============================] - 6s 9ms/step - loss: 1.0090 - accuracy: 0.6679 - val_loss: 0.9938 - val_accuracy: 0.6710\n",
            "Epoch 20/40\n",
            "687/687 [==============================] - 6s 9ms/step - loss: 1.0096 - accuracy: 0.6665 - val_loss: 0.9920 - val_accuracy: 0.6745\n",
            "Epoch 21/40\n",
            "687/687 [==============================] - 6s 9ms/step - loss: 1.0100 - accuracy: 0.6711 - val_loss: 0.9899 - val_accuracy: 0.6763\n",
            "Epoch 22/40\n",
            "687/687 [==============================] - 6s 9ms/step - loss: 1.0105 - accuracy: 0.6706 - val_loss: 0.9913 - val_accuracy: 0.6752\n",
            "Epoch 23/40\n",
            "687/687 [==============================] - 6s 9ms/step - loss: 0.9932 - accuracy: 0.6788 - val_loss: 0.9884 - val_accuracy: 0.6790\n",
            "Epoch 24/40\n",
            "687/687 [==============================] - 6s 9ms/step - loss: 0.9896 - accuracy: 0.6812 - val_loss: 0.9863 - val_accuracy: 0.6776\n",
            "Epoch 25/40\n",
            "687/687 [==============================] - 6s 9ms/step - loss: 0.9912 - accuracy: 0.6806 - val_loss: 0.9890 - val_accuracy: 0.6750\n",
            "Epoch 26/40\n",
            "687/687 [==============================] - 6s 9ms/step - loss: 1.0040 - accuracy: 0.6736 - val_loss: 0.9871 - val_accuracy: 0.6792\n",
            "Epoch 27/40\n",
            "687/687 [==============================] - 6s 9ms/step - loss: 0.9873 - accuracy: 0.6878 - val_loss: 0.9848 - val_accuracy: 0.6812\n",
            "Epoch 28/40\n",
            "687/687 [==============================] - 6s 9ms/step - loss: 0.9959 - accuracy: 0.6776 - val_loss: 0.9849 - val_accuracy: 0.6781\n",
            "Epoch 29/40\n",
            "687/687 [==============================] - 6s 9ms/step - loss: 0.9949 - accuracy: 0.6810 - val_loss: 0.9884 - val_accuracy: 0.6801\n",
            "Epoch 30/40\n",
            "687/687 [==============================] - 6s 9ms/step - loss: 0.9901 - accuracy: 0.6830 - val_loss: 0.9855 - val_accuracy: 0.6832\n",
            "Epoch 31/40\n",
            "687/687 [==============================] - 6s 9ms/step - loss: 0.9910 - accuracy: 0.6807 - val_loss: 0.9831 - val_accuracy: 0.6821\n",
            "Epoch 32/40\n",
            "687/687 [==============================] - 6s 9ms/step - loss: 0.9879 - accuracy: 0.6844 - val_loss: 0.9864 - val_accuracy: 0.6827\n",
            "Epoch 33/40\n",
            "687/687 [==============================] - 6s 9ms/step - loss: 0.9888 - accuracy: 0.6854 - val_loss: 0.9865 - val_accuracy: 0.6805\n",
            "Epoch 34/40\n",
            "687/687 [==============================] - 6s 9ms/step - loss: 0.9909 - accuracy: 0.6842 - val_loss: 0.9813 - val_accuracy: 0.6850\n",
            "Epoch 35/40\n",
            "687/687 [==============================] - 6s 9ms/step - loss: 0.9861 - accuracy: 0.6850 - val_loss: 0.9814 - val_accuracy: 0.6825\n",
            "Epoch 36/40\n",
            "687/687 [==============================] - 6s 9ms/step - loss: 0.9891 - accuracy: 0.6803 - val_loss: 0.9811 - val_accuracy: 0.6841\n",
            "Epoch 37/40\n",
            "687/687 [==============================] - 6s 9ms/step - loss: 0.9864 - accuracy: 0.6852 - val_loss: 0.9806 - val_accuracy: 0.6820\n",
            "Epoch 38/40\n",
            "687/687 [==============================] - 6s 9ms/step - loss: 0.9884 - accuracy: 0.6848 - val_loss: 0.9851 - val_accuracy: 0.6814\n",
            "Epoch 39/40\n",
            "687/687 [==============================] - 6s 9ms/step - loss: 0.9846 - accuracy: 0.6871 - val_loss: 0.9838 - val_accuracy: 0.6834\n",
            "Epoch 40/40\n",
            "687/687 [==============================] - 6s 9ms/step - loss: 0.9824 - accuracy: 0.6852 - val_loss: 0.9813 - val_accuracy: 0.6814\n"
          ],
          "name": "stdout"
        }
      ]
    },
    {
      "cell_type": "code",
      "metadata": {
        "id": "7rutOmzyisvW",
        "colab": {
          "base_uri": "https://localhost:8080/"
        },
        "outputId": "e653427b-4c25-46fb-a1f7-d87e3b131e68"
      },
      "source": [
        "#predicting the values of embedding matrix\n",
        "model.predict(embedding_matrix_val[0:10])"
      ],
      "execution_count": null,
      "outputs": [
        {
          "output_type": "execute_result",
          "data": {
            "text/plain": [
              "array([[0.04917233, 0.17114656, 0.752749  , 0.00299115, 0.00299406,\n",
              "        0.00299095, 0.00299249, 0.00299076, 0.00299311, 0.00299419,\n",
              "        0.0029947 , 0.00299071],\n",
              "       [0.18711571, 0.305138  , 0.47593448, 0.00353208, 0.00353704,\n",
              "        0.00353311, 0.00353449, 0.00353315, 0.00353509, 0.00353675,\n",
              "        0.00353647, 0.00353362],\n",
              "       [0.09623089, 0.6000769 , 0.27390188, 0.00330677, 0.00331242,\n",
              "        0.00330959, 0.00331028, 0.00330676, 0.00331126, 0.00331268,\n",
              "        0.00331043, 0.00331005],\n",
              "       [0.22773431, 0.6345929 , 0.11376897, 0.00265322, 0.00265795,\n",
              "        0.00265538, 0.00265626, 0.00265422, 0.00265677, 0.00265779,\n",
              "        0.00265577, 0.00265642],\n",
              "       [0.03929068, 0.2352588 , 0.7008312 , 0.00273409, 0.00273706,\n",
              "        0.00273439, 0.0027356 , 0.00273351, 0.00273619, 0.00273731,\n",
              "        0.00273705, 0.00273412],\n",
              "       [0.09372756, 0.21094996, 0.66508156, 0.00335864, 0.00336202,\n",
              "        0.00335811, 0.00336051, 0.00335828, 0.00336081, 0.00336193,\n",
              "        0.00336229, 0.00335829],\n",
              "       [0.06304689, 0.13139258, 0.78071016, 0.00275996, 0.00276264,\n",
              "        0.00275965, 0.00276114, 0.00275996, 0.00276155, 0.00276268,\n",
              "        0.00276346, 0.00275935],\n",
              "       [0.23537059, 0.42322248, 0.3124022 , 0.00322024, 0.0032249 ,\n",
              "        0.00322146, 0.00322239, 0.00322098, 0.00322387, 0.00322508,\n",
              "        0.00322362, 0.00322218],\n",
              "       [0.31772548, 0.5106832 , 0.14610863, 0.00282882, 0.00283334,\n",
              "        0.00283047, 0.00283157, 0.00283019, 0.00283217, 0.00283317,\n",
              "        0.00283152, 0.00283144],\n",
              "       [0.15466702, 0.7101657 , 0.10389946, 0.00347   , 0.00347614,\n",
              "        0.00347429, 0.00347462, 0.00347143, 0.00347565, 0.00347668,\n",
              "        0.00347395, 0.00347503]], dtype=float32)"
            ]
          },
          "metadata": {
            "tags": []
          },
          "execution_count": 73
        }
      ]
    },
    {
      "cell_type": "code",
      "metadata": {
        "id": "An1lzsANzxnL",
        "colab": {
          "base_uri": "https://localhost:8080/",
          "height": 572
        },
        "outputId": "cc1d15ec-3eb1-4628-c342-c845618cbd9b"
      },
      "source": [
        "# summarize history for accuracy\n",
        "plt.plot(hist.history['accuracy'])\n",
        "plt.plot(hist.history['val_accuracy'])\n",
        "plt.title('model accuracy')\n",
        "plt.ylabel('accuracy')\n",
        "plt.xlabel('epoch')\n",
        "plt.legend(['train', 'test'], loc='upper left')\n",
        "plt.show()\n",
        "# summarize history for loss\n",
        "plt.plot(hist.history['loss'])\n",
        "plt.plot(hist.history['val_loss'])\n",
        "plt.title('model loss')\n",
        "plt.ylabel('loss')\n",
        "plt.xlabel('epoch')\n",
        "plt.legend(['train', 'test'], loc='upper left')\n",
        "plt.show()"
      ],
      "execution_count": null,
      "outputs": [
        {
          "output_type": "display_data",
          "data": {
            "image/png": "[encoded data removed]",
            "text/plain": [
              "<Figure size 432x288 with 1 Axes>"
            ]
          },
          "metadata": {
            "tags": [],
            "needs_background": "light"
          }
        },
        {
          "output_type": "display_data",
          "data": {
            "image/png": "[encoded data removed]",
            "text/plain": [
              "<Figure size 432x288 with 1 Axes>"
            ]
          },
          "metadata": {
            "tags": [],
            "needs_background": "light"
          }
        }
      ]
    },
    {
      "cell_type": "code",
      "metadata": {
        "id": "6sWd2IPZisvX",
        "colab": {
          "base_uri": "https://localhost:8080/"
        },
        "outputId": "c1054869-a655-4281-8943-fffda7616841"
      },
      "source": [
        "#visualizing yval array to see the classification of tweets\n",
        "y_val[0:10]"
      ],
      "execution_count": null,
      "outputs": [
        {
          "output_type": "execute_result",
          "data": {
            "text/plain": [
              "array([2, 2, 1, 1, 2, 1, 2, 2, 1, 1])"
            ]
          },
          "metadata": {
            "tags": []
          },
          "execution_count": 75
        }
      ]
    },
    {
      "cell_type": "code",
      "metadata": {
        "id": "5HtWnpMtisvX"
      },
      "source": [
        "# Define metrics\n",
        "y_pred = model.predict(embedding_matrix_test)\n",
        "pred = []\n",
        "for i in range(len(X_test)):\n",
        "   pred.append(np.argmax(y_pred[i]))"
      ],
      "execution_count": null,
      "outputs": []
    },
    {
      "cell_type": "code",
      "metadata": {
        "id": "9eKYTdgGisvX"
      },
      "source": [
        "pred = np.array(pred)"
      ],
      "execution_count": null,
      "outputs": []
    },
    {
      "cell_type": "code",
      "metadata": {
        "colab": {
          "base_uri": "https://localhost:8080/"
        },
        "id": "cJR7XX_D4pkv",
        "outputId": "4a557248-e7eb-4413-db55-b798f6d42095"
      },
      "source": [
        "#calculating the f1 score for the model\n",
        "f1_score(y_test, pred, average='macro')"
      ],
      "execution_count": null,
      "outputs": [
        {
          "output_type": "execute_result",
          "data": {
            "text/plain": [
              "0.6954189137922189"
            ]
          },
          "metadata": {
            "tags": []
          },
          "execution_count": 67
        }
      ]
    },
    {
      "cell_type": "code",
      "metadata": {
        "colab": {
          "base_uri": "https://localhost:8080/"
        },
        "id": "yqa1YnoTTwMP",
        "outputId": "3aad8a92-3817-4b24-c1ec-9180bfac1999"
      },
      "source": [
        "#calculating the recall score for the model\n",
        "recall_score(y_test, pred, average='macro')"
      ],
      "execution_count": null,
      "outputs": [
        {
          "output_type": "execute_result",
          "data": {
            "text/plain": [
              "0.6919795526323179"
            ]
          },
          "metadata": {
            "tags": []
          },
          "execution_count": 68
        }
      ]
    },
    {
      "cell_type": "markdown",
      "metadata": {
        "id": "zIsnZkv4VDou"
      },
      "source": [
        "accuracy_score(y_test)"
      ]
    },
    {
      "cell_type": "code",
      "metadata": {
        "colab": {
          "base_uri": "https://localhost:8080/"
        },
        "id": "SSbhS8dsTkHI",
        "outputId": "379b26b1-15f3-4d11-bb71-6137bbefd06e"
      },
      "source": [
        "#calculating the precision score for the model\n",
        "precision_score(y_test, pred, average=\"macro\")"
      ],
      "execution_count": null,
      "outputs": [
        {
          "output_type": "execute_result",
          "data": {
            "text/plain": [
              "0.7001150224954978"
            ]
          },
          "metadata": {
            "tags": []
          },
          "execution_count": 69
        }
      ]
    },
    {
      "cell_type": "code",
      "metadata": {
        "colab": {
          "base_uri": "https://localhost:8080/"
        },
        "id": "1R9tl54sTymn",
        "outputId": "d82b15e8-7660-472a-e69e-090afce3a6c6"
      },
      "source": [
        "#calculating the accuracy score for the model\n",
        "accuracy_score(y_test, pred)"
      ],
      "execution_count": null,
      "outputs": [
        {
          "output_type": "execute_result",
          "data": {
            "text/plain": [
              "0.6943972835314092"
            ]
          },
          "metadata": {
            "tags": []
          },
          "execution_count": 70
        }
      ]
    },
    {
      "cell_type": "code",
      "metadata": {
        "colab": {
          "base_uri": "https://localhost:8080/"
        },
        "id": "WqKKagCcWmdi",
        "outputId": "3e94adcc-4196-4d1a-ff71-b33694ed2ea4"
      },
      "source": [
        "#Display the architecture of the model\n",
        "model.summary()\n"
      ],
      "execution_count": null,
      "outputs": [
        {
          "output_type": "stream",
          "text": [
            "Model: \"sequential_13\"\n",
            "_________________________________________________________________\n",
            "Layer (type)                 Output Shape              Param #   \n",
            "=================================================================\n",
            "bidirectional_7 (Bidirection (None, 30)                6030      \n",
            "_________________________________________________________________\n",
            "dropout_12 (Dropout)         (None, 30)                0         \n",
            "_________________________________________________________________\n",
            "dense_13 (Dense)             (None, 12)                372       \n",
            "=================================================================\n",
            "Total params: 6,402\n",
            "Trainable params: 6,402\n",
            "Non-trainable params: 0\n",
            "_________________________________________________________________\n"
          ],
          "name": "stdout"
        }
      ]
    }
  ]
}