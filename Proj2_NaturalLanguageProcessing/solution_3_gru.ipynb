{
 "cells": [
  {
   "cell_type": "code",
   "execution_count": 1,
   "metadata": {
    "colab": {
     "base_uri": "https://localhost:8080/"
    },
    "id": "ChKfzE2LisvB",
    "outputId": "2fb09498-c4fb-4286-8108-d52e4bc7242e"
   },
   "outputs": [
    {
     "name": "stderr",
     "output_type": "stream",
     "text": [
      "[nltk_data] Downloading package punkt to /home/sanju/nltk_data...\n",
      "[nltk_data]   Package punkt is already up-to-date!\n",
      "[nltk_data] Downloading package stopwords to /home/sanju/nltk_data...\n",
      "[nltk_data]   Package stopwords is already up-to-date!\n",
      "Using TensorFlow backend.\n"
     ]
    }
   ],
   "source": [
    "#importing libraries : Pandas,numpy,string,regular expression,natural language tool kit,Scikit-learn,tensorflow,keras\n",
    "import pandas as pd\n",
    "import numpy as np\n",
    "import string\n",
    "import re\n",
    "import nltk\n",
    "#downloading the punctuations and stopwords from natural language toolkit\n",
    "nltk.download('punkt')\n",
    "nltk.download('stopwords')\n",
    "#importing stopwords for the tweets\n",
    "from nltk.corpus import stopwords\n",
    "\n",
    "sw = stopwords.words('english')\n",
    "from sklearn.model_selection import train_test_split\n",
    "from tensorflow.keras.models import Sequential\n",
    "#importing the layers required for the model\n",
    "from tensorflow.keras.layers import Dense, LSTM,Bidirectional, Dropout,MaxPool2D,Conv1D,MaxPool1D,RNN,SimpleRNN,LSTMCell,TimeDistributed,GRU,GRUCell\n",
    "#importing the label encoding\n",
    "from sklearn.preprocessing import LabelEncoder\n",
    "#importing tokenizers from natural language toolkit\n",
    "from nltk.tokenize import word_tokenize, sent_tokenize\n",
    "#importing the embedding layer\n",
    "from keras.layers import Embedding\n",
    "#importing metrics\n",
    "from sklearn.metrics import f1_score, precision_score, recall_score,accuracy_score\n",
    "from tensorflow.keras import regularizers\n",
    "from keras.regularizers import l2,l1\n",
    "import matplotlib.pyplot as plt\n",
    "\n"
   ]
  },
  {
   "cell_type": "code",
   "execution_count": 2,
   "metadata": {
    "id": "zU65df-JisvN"
   },
   "outputs": [],
   "source": [
    "#reading the training dataset\n",
    "data = pd.read_csv('train.csv')"
   ]
  },
  {
   "cell_type": "code",
   "execution_count": 3,
   "metadata": {
    "id": "H7f693hBJUgc"
   },
   "outputs": [],
   "source": [
    "#reading the training dataset\n",
    "testdata = pd.read_csv('test.csv')"
   ]
  },
  {
   "cell_type": "markdown",
   "metadata": {
    "id": "zN-t4TY3Taya"
   },
   "source": [
    "# New Section"
   ]
  },
  {
   "cell_type": "code",
   "execution_count": 4,
   "metadata": {
    "colab": {
     "base_uri": "https://localhost:8080/",
     "height": 190
    },
    "id": "93Cgm2EgisvO",
    "outputId": "36e86ec2-638c-4402-f185-f017384ac972"
   },
   "outputs": [
    {
     "data": {
      "text/html": [
       "<div>\n",
       "<style scoped>\n",
       "    .dataframe tbody tr th:only-of-type {\n",
       "        vertical-align: middle;\n",
       "    }\n",
       "\n",
       "    .dataframe tbody tr th {\n",
       "        vertical-align: top;\n",
       "    }\n",
       "\n",
       "    .dataframe thead th {\n",
       "        text-align: right;\n",
       "    }\n",
       "</style>\n",
       "<table border=\"1\" class=\"dataframe\">\n",
       "  <thead>\n",
       "    <tr style=\"text-align: right;\">\n",
       "      <th></th>\n",
       "      <th>textID</th>\n",
       "      <th>text</th>\n",
       "      <th>selected_text</th>\n",
       "      <th>sentiment</th>\n",
       "    </tr>\n",
       "  </thead>\n",
       "  <tbody>\n",
       "    <tr>\n",
       "      <th>0</th>\n",
       "      <td>cb774db0d1</td>\n",
       "      <td>I`d have responded, if I were going</td>\n",
       "      <td>I`d have responded, if I were going</td>\n",
       "      <td>neutral</td>\n",
       "    </tr>\n",
       "    <tr>\n",
       "      <th>1</th>\n",
       "      <td>549e992a42</td>\n",
       "      <td>Sooo SAD I will miss you here in San Diego!!!</td>\n",
       "      <td>Sooo SAD</td>\n",
       "      <td>negative</td>\n",
       "    </tr>\n",
       "    <tr>\n",
       "      <th>2</th>\n",
       "      <td>088c60f138</td>\n",
       "      <td>my boss is bullying me...</td>\n",
       "      <td>bullying me</td>\n",
       "      <td>negative</td>\n",
       "    </tr>\n",
       "    <tr>\n",
       "      <th>3</th>\n",
       "      <td>9642c003ef</td>\n",
       "      <td>what interview! leave me alone</td>\n",
       "      <td>leave me alone</td>\n",
       "      <td>negative</td>\n",
       "    </tr>\n",
       "    <tr>\n",
       "      <th>4</th>\n",
       "      <td>358bd9e861</td>\n",
       "      <td>Sons of ****, why couldn`t they put them on t...</td>\n",
       "      <td>Sons of ****,</td>\n",
       "      <td>negative</td>\n",
       "    </tr>\n",
       "  </tbody>\n",
       "</table>\n",
       "</div>"
      ],
      "text/plain": [
       "       textID                                               text  \\\n",
       "0  cb774db0d1                I`d have responded, if I were going   \n",
       "1  549e992a42      Sooo SAD I will miss you here in San Diego!!!   \n",
       "2  088c60f138                          my boss is bullying me...   \n",
       "3  9642c003ef                     what interview! leave me alone   \n",
       "4  358bd9e861   Sons of ****, why couldn`t they put them on t...   \n",
       "\n",
       "                         selected_text sentiment  \n",
       "0  I`d have responded, if I were going   neutral  \n",
       "1                             Sooo SAD  negative  \n",
       "2                          bullying me  negative  \n",
       "3                       leave me alone  negative  \n",
       "4                        Sons of ****,  negative  "
      ]
     },
     "execution_count": 4,
     "metadata": {},
     "output_type": "execute_result"
    }
   ],
   "source": [
    "#reading headers in training data\n",
    "data.head()"
   ]
  },
  {
   "cell_type": "code",
   "execution_count": 5,
   "metadata": {
    "id": "Y4X_w4IzisvQ"
   },
   "outputs": [],
   "source": [
    "#removing the blank spaces\n",
    "data = data.dropna()"
   ]
  },
  {
   "cell_type": "code",
   "execution_count": 6,
   "metadata": {
    "id": "7ME6IIw3isvQ"
   },
   "outputs": [],
   "source": [
    "#Assigning the text in the dataset to variable X\n",
    "X = data['text']"
   ]
  },
  {
   "cell_type": "code",
   "execution_count": 7,
   "metadata": {
    "id": "oeA6GQ9FKMP-"
   },
   "outputs": [],
   "source": [
    "#test variables\n",
    "X_test=testdata['text']\n",
    "y_test=testdata['sentiment']\n",
    "y_test=LabelEncoder().fit_transform(y_test)"
   ]
  },
  {
   "cell_type": "code",
   "execution_count": 8,
   "metadata": {
    "id": "xZ5-PtCrisvQ"
   },
   "outputs": [],
   "source": [
    "#Assigning the sentiment in the dataset to variable Y\n",
    "y = data['sentiment']"
   ]
  },
  {
   "cell_type": "code",
   "execution_count": 9,
   "metadata": {
    "colab": {
     "base_uri": "https://localhost:8080/"
    },
    "id": "WIpW5TRRisvR",
    "outputId": "62d6f102-9bc8-41c9-c91b-df4335a93081"
   },
   "outputs": [
    {
     "data": {
      "text/plain": [
       "0         neutral\n",
       "1        negative\n",
       "2        negative\n",
       "3        negative\n",
       "4        negative\n",
       "5         neutral\n",
       "6        positive\n",
       "7         neutral\n",
       "8         neutral\n",
       "9        positive\n",
       "10        neutral\n",
       "11       positive\n",
       "12       negative\n",
       "13       negative\n",
       "14        neutral\n",
       "15       negative\n",
       "16       negative\n",
       "17       negative\n",
       "18       negative\n",
       "19        neutral\n",
       "20        neutral\n",
       "21       positive\n",
       "22        neutral\n",
       "23        neutral\n",
       "24        neutral\n",
       "25       positive\n",
       "26       negative\n",
       "27       negative\n",
       "28       positive\n",
       "29       negative\n",
       "           ...   \n",
       "27451    positive\n",
       "27452     neutral\n",
       "27453     neutral\n",
       "27454    positive\n",
       "27455    positive\n",
       "27456    negative\n",
       "27457     neutral\n",
       "27458    positive\n",
       "27459    positive\n",
       "27460     neutral\n",
       "27461    positive\n",
       "27462    positive\n",
       "27463    negative\n",
       "27464    negative\n",
       "27465    positive\n",
       "27466     neutral\n",
       "27467    positive\n",
       "27468     neutral\n",
       "27469     neutral\n",
       "27470    negative\n",
       "27471     neutral\n",
       "27472    negative\n",
       "27473     neutral\n",
       "27474    positive\n",
       "27475    positive\n",
       "27476    negative\n",
       "27477    negative\n",
       "27478    positive\n",
       "27479    positive\n",
       "27480     neutral\n",
       "Name: sentiment, Length: 27480, dtype: object"
      ]
     },
     "execution_count": 9,
     "metadata": {},
     "output_type": "execute_result"
    }
   ],
   "source": [
    "y"
   ]
  },
  {
   "cell_type": "code",
   "execution_count": 10,
   "metadata": {
    "id": "n4DD35CVisvS"
   },
   "outputs": [],
   "source": [
    "#application of label encoding and tranforming y\n",
    "y = LabelEncoder().fit_transform(y)\n"
   ]
  },
  {
   "cell_type": "code",
   "execution_count": 11,
   "metadata": {
    "colab": {
     "base_uri": "https://localhost:8080/"
    },
    "id": "CiWm8L5kisvT",
    "outputId": "63860e96-f4bc-4edb-e944-01b8fd8c5c5d"
   },
   "outputs": [
    {
     "data": {
      "text/plain": [
       "array([1, 0, 0, ..., 2, 2, 1])"
      ]
     },
     "execution_count": 11,
     "metadata": {},
     "output_type": "execute_result"
    }
   ],
   "source": [
    "y\n"
   ]
  },
  {
   "cell_type": "code",
   "execution_count": 12,
   "metadata": {
    "id": "V0rY8f8AisvT"
   },
   "outputs": [],
   "source": [
    "#Coverting the string to lower case and iterating through the words and appending them to the list if the word is not a for X\n",
    "X = X.str.lower()\n",
    "\n",
    "lst = []\n",
    "for phase_word in X:\n",
    "    lst.append(\" \".join([re.sub('[0-9\\W_]', '', word) for word in phase_word.split() if not word in sw]))\n",
    "X = lst"
   ]
  },
  {
   "cell_type": "code",
   "execution_count": 13,
   "metadata": {
    "id": "g82qw-X7KyJQ"
   },
   "outputs": [],
   "source": [
    "#Coverting the string to lower case and iterating through the words and appending them to the list if the word is not a for X_test\n",
    "X_test = X_test.str.lower()\n",
    "\n",
    "lst = []\n",
    "for phase_word in X_test:\n",
    "    lst.append(\" \".join([re.sub('[0-9\\W_]', '', word) for word in phase_word.split() if not word in sw]))\n",
    "X_test = lst"
   ]
  },
  {
   "cell_type": "code",
   "execution_count": 14,
   "metadata": {
    "id": "kkAd_jnXisvT"
   },
   "outputs": [],
   "source": [
    "#iterating through the word list for each sentence and assigning to tokens\n",
    "for i in range(len(X)):\n",
    "    X[i] = word_tokenize(X[i])"
   ]
  },
  {
   "cell_type": "code",
   "execution_count": 15,
   "metadata": {
    "id": "G30aMzcBK91c"
   },
   "outputs": [],
   "source": [
    "#iterating through the word list for each sentence and assigning to tokens\n",
    "for i in range(len(X_test)):\n",
    "    X_test[i] = word_tokenize(X_test[i])"
   ]
  },
  {
   "cell_type": "code",
   "execution_count": 16,
   "metadata": {
    "colab": {
     "base_uri": "https://localhost:8080/"
    },
    "id": "qL8cF9A9isvU",
    "outputId": "5200ce78-ac84-46d2-a46f-b7f8d4e26c75"
   },
   "outputs": [
    {
     "name": "stderr",
     "output_type": "stream",
     "text": [
      "/home/sanju/anaconda3/lib/python3.7/site-packages/ipykernel_launcher.py:1: VisibleDeprecationWarning: Creating an ndarray from ragged nested sequences (which is a list-or-tuple of lists-or-tuples-or ndarrays with different lengths or shapes) is deprecated. If you meant to do this, you must specify 'dtype=object' when creating the ndarray\n",
      "  \"\"\"Entry point for launching an IPython kernel.\n"
     ]
    }
   ],
   "source": [
    "X_train, X_val, y_train, y_val = train_test_split(np.array(X), y, test_size=0.2) "
   ]
  },
  {
   "cell_type": "code",
   "execution_count": 17,
   "metadata": {
    "id": "GRm7VLA5isvU"
   },
   "outputs": [],
   "source": [
    "f = open('glove.6B.50d.txt')\n",
    "\n",
    "embeddings_index = {}\n",
    "cnt = 0\n",
    "for line in f:\n",
    "    values = line.split()\n",
    "    word = values[0]\n",
    "    coefs = np.asarray(values[1:], dtype='float')\n",
    "    embeddings_index[word] = coefs\n",
    "f.close()"
   ]
  },
  {
   "cell_type": "code",
   "execution_count": 18,
   "metadata": {
    "id": "vQaAPMNnisvV"
   },
   "outputs": [],
   "source": [
    "def embedding_output(X):\n",
    "  max_len=50\n",
    "  emb_dim=50\n",
    "  embedding_out = np.zeros((len(X), max_len, emb_dim))\n",
    "  for ix in range(len(X)):\n",
    "    for ij in range(len(X[ix])):\n",
    "      try:\n",
    "        embedding_out[ix][ij] = embeddings_index[X[ix][ij].lower()]\n",
    "      except: \n",
    "        embedding_out[ix][ij] = np.zeros((50, ))\n",
    "\n",
    "  return embedding_out"
   ]
  },
  {
   "cell_type": "code",
   "execution_count": 19,
   "metadata": {
    "id": "n9GrJjN7isvV"
   },
   "outputs": [],
   "source": [
    "#assigning embedding matrix for training and validation sets\n",
    "embedding_matrix_train = embedding_output(X_train)\n",
    "embedding_matrix_val = embedding_output(X_val)\n",
    "embedding_matrix_test=embedding_output(X_test)"
   ]
  },
  {
   "cell_type": "code",
   "execution_count": 20,
   "metadata": {
    "colab": {
     "base_uri": "https://localhost:8080/"
    },
    "id": "bPSOMyp3isvV",
    "outputId": "4d14d5fd-6af2-47f8-b623-72cad1ae49b0"
   },
   "outputs": [
    {
     "data": {
      "text/plain": [
       "(21984, 50, 50)"
      ]
     },
     "execution_count": 20,
     "metadata": {},
     "output_type": "execute_result"
    }
   ],
   "source": [
    "embedding_matrix_train.shape"
   ]
  },
  {
   "cell_type": "code",
   "execution_count": 21,
   "metadata": {
    "cellView": "code",
    "colab": {
     "base_uri": "https://localhost:8080/"
    },
    "id": "k2XMbQ4zisvW",
    "outputId": "4583b5e7-512c-4e7d-8a03-63a146b90d3a"
   },
   "outputs": [
    {
     "name": "stdout",
     "output_type": "stream",
     "text": [
      "Epoch 1/15\n",
      "687/687 [==============================] - 5s 7ms/step - loss: 1.6138 - accuracy: 0.3528 - val_loss: 1.3218 - val_accuracy: 0.4016\n",
      "Epoch 2/15\n",
      "687/687 [==============================] - 4s 5ms/step - loss: 1.3098 - accuracy: 0.4449 - val_loss: 1.2238 - val_accuracy: 0.5271\n",
      "Epoch 3/15\n",
      "687/687 [==============================] - 4s 6ms/step - loss: 1.2296 - accuracy: 0.4867 - val_loss: 1.1493 - val_accuracy: 0.5520\n",
      "Epoch 4/15\n",
      "687/687 [==============================] - 4s 6ms/step - loss: 1.1909 - accuracy: 0.4970 - val_loss: 1.1211 - val_accuracy: 0.5577\n",
      "Epoch 5/15\n",
      "687/687 [==============================] - 4s 6ms/step - loss: 1.1805 - accuracy: 0.4978 - val_loss: 1.1109 - val_accuracy: 0.5579\n",
      "Epoch 6/15\n",
      "687/687 [==============================] - 4s 6ms/step - loss: 1.1718 - accuracy: 0.5007 - val_loss: 1.1030 - val_accuracy: 0.5568\n",
      "Epoch 7/15\n",
      "687/687 [==============================] - 4s 6ms/step - loss: 1.1652 - accuracy: 0.5089 - val_loss: 1.0989 - val_accuracy: 0.5577\n",
      "Epoch 8/15\n",
      "687/687 [==============================] - 4s 6ms/step - loss: 1.1599 - accuracy: 0.5229 - val_loss: 1.0924 - val_accuracy: 0.5570\n",
      "Epoch 9/15\n",
      "687/687 [==============================] - 4s 6ms/step - loss: 1.1542 - accuracy: 0.5277 - val_loss: 1.0901 - val_accuracy: 0.5602\n",
      "Epoch 10/15\n",
      "687/687 [==============================] - 4s 6ms/step - loss: 1.1504 - accuracy: 0.5346 - val_loss: 1.0842 - val_accuracy: 0.5620\n",
      "Epoch 11/15\n",
      "687/687 [==============================] - 4s 6ms/step - loss: 1.1486 - accuracy: 0.5429 - val_loss: 1.0768 - val_accuracy: 0.6081\n",
      "Epoch 12/15\n",
      "687/687 [==============================] - 4s 6ms/step - loss: 1.1441 - accuracy: 0.5439 - val_loss: 1.0725 - val_accuracy: 0.6183\n",
      "Epoch 13/15\n",
      "687/687 [==============================] - 4s 6ms/step - loss: 1.1346 - accuracy: 0.5530 - val_loss: 1.0651 - val_accuracy: 0.6563\n",
      "Epoch 14/15\n",
      "687/687 [==============================] - 4s 6ms/step - loss: 1.1393 - accuracy: 0.5517 - val_loss: 1.0645 - val_accuracy: 0.6265\n",
      "Epoch 15/15\n",
      "687/687 [==============================] - 4s 6ms/step - loss: 1.1297 - accuracy: 0.5565 - val_loss: 1.0600 - val_accuracy: 0.6406\n"
     ]
    }
   ],
   "source": [
    "#creating the model for Tweet sentiment extraction and compiling it\n",
    "model = Sequential()\n",
    "model.add(RNN(GRUCell(10), input_shape=(50, 50)))\n",
    "model.add(Dropout(0.4))\n",
    "model.add(Dense(units=12, activation='softmax',kernel_regularizer='l1',bias_regularizer='l1'))\n",
    "model.compile(loss='sparse_categorical_crossentropy', optimizer='nadam', metrics=['accuracy'])\n",
    "prediction=model.predict\n",
    "hist = model.fit(embedding_matrix_train, y_train, epochs=15, validation_data=(embedding_matrix_val, y_val))\n"
   ]
  },
  {
   "cell_type": "code",
   "execution_count": 22,
   "metadata": {
    "colab": {
     "base_uri": "https://localhost:8080/"
    },
    "id": "7rutOmzyisvW",
    "outputId": "8021140d-b424-4214-c33d-a2875677f069"
   },
   "outputs": [
    {
     "data": {
      "text/plain": [
       "array([[0.16071875, 0.4027153 , 0.4125291 , 0.00267207, 0.00267093,\n",
       "        0.00266858, 0.00267083, 0.00267152, 0.00266872, 0.0026702 ,\n",
       "        0.00267176, 0.00267222],\n",
       "       [0.28273657, 0.4666041 , 0.22297502, 0.00307747, 0.00307631,\n",
       "        0.0030736 , 0.00307607, 0.00307692, 0.0030738 , 0.00307557,\n",
       "        0.0030768 , 0.00307775],\n",
       "       [0.42640725, 0.45086572, 0.0956687 , 0.00300782, 0.00300685,\n",
       "        0.00300421, 0.00300647, 0.00300737, 0.00300444, 0.00300624,\n",
       "        0.00300684, 0.00300818],\n",
       "       [0.44937116, 0.44189155, 0.08216286, 0.002954  , 0.00295308,\n",
       "        0.00295049, 0.00295268, 0.00295357, 0.00295072, 0.00295249,\n",
       "        0.00295298, 0.00295438],\n",
       "       [0.06857892, 0.27198917, 0.6432577 , 0.00179807, 0.00179722,\n",
       "        0.00179561, 0.00179723, 0.00179764, 0.00179569, 0.00179665,\n",
       "        0.00179806, 0.00179811],\n",
       "       [0.32918698, 0.47023717, 0.1726836 , 0.00310057, 0.00309945,\n",
       "        0.00309672, 0.00309916, 0.00310004, 0.00309694, 0.00309874,\n",
       "        0.00309978, 0.00310088],\n",
       "       [0.31904268, 0.47022754, 0.18282473, 0.00310199, 0.00310086,\n",
       "        0.00309813, 0.00310058, 0.00310145, 0.00309834, 0.00310014,\n",
       "        0.00310123, 0.0031023 ],\n",
       "       [0.0785372 , 0.29173264, 0.6122515 , 0.00194306, 0.00194216,\n",
       "        0.00194042, 0.00194216, 0.00194261, 0.00194052, 0.00194155,\n",
       "        0.00194302, 0.00194311],\n",
       "       [0.39137483, 0.46150488, 0.11946504, 0.00307418, 0.00307315,\n",
       "        0.00307044, 0.0030728 , 0.0030737 , 0.00307068, 0.0030725 ,\n",
       "        0.00307325, 0.00307452],\n",
       "       [0.33414042, 0.47002596, 0.1678676 , 0.00310875, 0.00310764,\n",
       "        0.0031049 , 0.00310735, 0.00310823, 0.00310513, 0.00310693,\n",
       "        0.00310795, 0.00310907]], dtype=float32)"
      ]
     },
     "execution_count": 22,
     "metadata": {},
     "output_type": "execute_result"
    }
   ],
   "source": [
    "model.predict(embedding_matrix_val[0:10])"
   ]
  },
  {
   "cell_type": "code",
   "execution_count": 23,
   "metadata": {
    "colab": {
     "base_uri": "https://localhost:8080/"
    },
    "id": "6sWd2IPZisvX",
    "outputId": "467c58bb-53ab-4ce7-bad1-d0b5b7026457"
   },
   "outputs": [
    {
     "data": {
      "text/plain": [
       "array([2, 1, 0, 1, 2, 0, 1, 1, 1, 1])"
      ]
     },
     "execution_count": 23,
     "metadata": {},
     "output_type": "execute_result"
    }
   ],
   "source": [
    "y_val[0:10]"
   ]
  },
  {
   "cell_type": "code",
   "execution_count": 24,
   "metadata": {
    "id": "5HtWnpMtisvX"
   },
   "outputs": [],
   "source": [
    "# Define metrics\n",
    "y_pred = model.predict(embedding_matrix_test)\n",
    "pred = []\n",
    "for i in range(len(X_test)):\n",
    "   pred.append(np.argmax(y_pred[i]))"
   ]
  },
  {
   "cell_type": "code",
   "execution_count": 25,
   "metadata": {
    "id": "9eKYTdgGisvX"
   },
   "outputs": [],
   "source": [
    "pred = np.array(pred)"
   ]
  },
  {
   "cell_type": "code",
   "execution_count": 26,
   "metadata": {
    "colab": {
     "base_uri": "https://localhost:8080/"
    },
    "id": "cJR7XX_D4pkv",
    "outputId": "867b723e-07fd-4eb9-843d-2cbd418df2f7"
   },
   "outputs": [
    {
     "data": {
      "text/plain": [
       "0.6201762154583143"
      ]
     },
     "execution_count": 26,
     "metadata": {},
     "output_type": "execute_result"
    }
   ],
   "source": [
    "#calculating the f1 score for the model\n",
    "f1_score(y_test, pred, average='macro')"
   ]
  },
  {
   "cell_type": "code",
   "execution_count": 27,
   "metadata": {
    "colab": {
     "base_uri": "https://localhost:8080/"
    },
    "id": "yqa1YnoTTwMP",
    "outputId": "1dd46367-ee2f-4675-f1cd-4be67b38b424"
   },
   "outputs": [
    {
     "data": {
      "text/plain": [
       "0.6162699796425998"
      ]
     },
     "execution_count": 27,
     "metadata": {},
     "output_type": "execute_result"
    }
   ],
   "source": [
    "#calculating the recall score for the model\n",
    "recall_score(y_test, pred, average='macro')"
   ]
  },
  {
   "cell_type": "code",
   "execution_count": 28,
   "metadata": {
    "colab": {
     "base_uri": "https://localhost:8080/"
    },
    "id": "SSbhS8dsTkHI",
    "outputId": "19b1ba8e-6c7d-46c0-800f-73165a3ea5dd"
   },
   "outputs": [
    {
     "data": {
      "text/plain": [
       "0.7160211714065747"
      ]
     },
     "execution_count": 28,
     "metadata": {},
     "output_type": "execute_result"
    }
   ],
   "source": [
    "#calculating the precision score for the model\n",
    "precision_score(y_test, pred, average=\"macro\")"
   ]
  },
  {
   "cell_type": "code",
   "execution_count": 29,
   "metadata": {
    "colab": {
     "base_uri": "https://localhost:8080/"
    },
    "id": "1R9tl54sTymn",
    "outputId": "89956e72-55a8-416a-e2dc-e110b3597023"
   },
   "outputs": [
    {
     "data": {
      "text/plain": [
       "0.644878324844369"
      ]
     },
     "execution_count": 29,
     "metadata": {},
     "output_type": "execute_result"
    }
   ],
   "source": [
    "#calculating the accuracy score for the model\n",
    "accuracy_score(y_test, pred)"
   ]
  },
  {
   "cell_type": "code",
   "execution_count": 30,
   "metadata": {
    "colab": {
     "base_uri": "https://localhost:8080/"
    },
    "id": "WqKKagCcWmdi",
    "outputId": "9e2bb4a9-effb-41a6-b3c8-71ed863bb400"
   },
   "outputs": [
    {
     "name": "stdout",
     "output_type": "stream",
     "text": [
      "Model: \"sequential\"\n",
      "_________________________________________________________________\n",
      "Layer (type)                 Output Shape              Param #   \n",
      "=================================================================\n",
      "rnn (RNN)                    (None, 10)                1860      \n",
      "_________________________________________________________________\n",
      "dropout (Dropout)            (None, 10)                0         \n",
      "_________________________________________________________________\n",
      "dense (Dense)                (None, 12)                132       \n",
      "=================================================================\n",
      "Total params: 1,992\n",
      "Trainable params: 1,992\n",
      "Non-trainable params: 0\n",
      "_________________________________________________________________\n"
     ]
    }
   ],
   "source": [
    "#Display the architecture of the model\n",
    "model.summary()\n"
   ]
  },
  {
   "cell_type": "code",
   "execution_count": 31,
   "metadata": {
    "colab": {
     "base_uri": "https://localhost:8080/",
     "height": 572
    },
    "id": "AQC7UuOtFwBM",
    "outputId": "79ae53e3-ba89-462a-ff5e-16f4e9ba5229"
   },
   "outputs": [
    {
     "data": {
      "image/png": "[encoded data removed]",
      "text/plain": [
       "<Figure size 432x288 with 1 Axes>"
      ]
     },
     "metadata": {
      "needs_background": "light"
     },
     "output_type": "display_data"
    },
    {
     "data": {
      "image/png": "[encoded data removed]",
      "text/plain": [
       "<Figure size 432x288 with 1 Axes>"
      ]
     },
     "metadata": {
      "needs_background": "light"
     },
     "output_type": "display_data"
    }
   ],
   "source": [
    "# summarize history for accuracy\n",
    "plt.plot(hist.history['accuracy'])\n",
    "plt.plot(hist.history['val_accuracy'])\n",
    "plt.title('model accuracy')\n",
    "plt.ylabel('accuracy')\n",
    "plt.xlabel('epoch')\n",
    "plt.legend(['train', 'test'], loc='upper left')\n",
    "plt.show()\n",
    "# summarize history for loss\n",
    "plt.plot(hist.history['loss'])\n",
    "plt.plot(hist.history['val_loss'])\n",
    "plt.title('model loss')\n",
    "plt.ylabel('loss')\n",
    "plt.xlabel('epoch')\n",
    "plt.legend(['train', 'test'], loc='upper left')\n",
    "plt.show()"
   ]
  },
  {
   "cell_type": "code",
   "execution_count": null,
   "metadata": {},
   "outputs": [],
   "source": []
  }
 ],
 "metadata": {
  "accelerator": "GPU",
  "colab": {
   "collapsed_sections": [],
   "name": "Copy of GRUCell_regularizer.ipynb",
   "provenance": [],
   "toc_visible": true
  },
  "kernelspec": {
   "display_name": "Python 3",
   "language": "python",
   "name": "python3"
  },
  "language_info": {
   "codemirror_mode": {
    "name": "ipython",
    "version": 3
   },
   "file_extension": ".py",
   "mimetype": "text/x-python",
   "name": "python",
   "nbconvert_exporter": "python",
   "pygments_lexer": "ipython3",
   "version": "3.7.6"
  }
 },
 "nbformat": 4,
 "nbformat_minor": 4
}
