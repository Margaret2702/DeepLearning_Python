{
  "nbformat": 4,
  "nbformat_minor": 0,
  "metadata": {
    "kernelspec": {
      "display_name": "Python 3",
      "language": "python",
      "name": "python3"
    },
    "language_info": {
      "codemirror_mode": {
        "name": "ipython",
        "version": 3
      },
      "file_extension": ".py",
      "mimetype": "text/x-python",
      "name": "python",
      "nbconvert_exporter": "python",
      "pygments_lexer": "ipython3",
      "version": "3.8.5"
    },
    "colab": {
      "name": "LSTM_Bidrirectional_regukarizer.ipynb",
      "provenance": [],
      "collapsed_sections": [],
      "toc_visible": true
    },
    "accelerator": "GPU"
  },
  "cells": [
    {
      "cell_type": "code",
      "metadata": {
        "colab": {
          "base_uri": "https://localhost:8080/"
        },
        "id": "ChKfzE2LisvB",
        "outputId": "007044f7-c72b-417a-809b-f12d4c069cb4"
      },
      "source": [
        "#importing libraries : Pandas,numpy,string,regular expression,natural language tool kit,Scikit-learn,tensorflow,keras\n",
        "import pandas as pd\n",
        "import numpy as np\n",
        "import string\n",
        "import re\n",
        "import nltk\n",
        "#downloading the punctuations and stopwords from natural language toolkit\n",
        "nltk.download('punkt')\n",
        "nltk.download('stopwords')\n",
        "#importing stopwords for the tweets\n",
        "from nltk.corpus import stopwords\n",
        "sw = stopwords.words('english')\n",
        "from sklearn.model_selection import train_test_split\n",
        "from tensorflow.keras.models import Sequential\n",
        "#importing the layers required for the model\n",
        "from tensorflow.keras.layers import Dense, LSTM,Bidirectional, Dropout,MaxPool2D,Conv1D,MaxPool1D,RNN,SimpleRNN,LSTMCell,TimeDistributed,GRU,GRUCell\n",
        "#importing the label encoding\n",
        "from sklearn.preprocessing import LabelEncoder\n",
        "#importing tokenizers from natural language toolkit\n",
        "from nltk.tokenize import word_tokenize, sent_tokenize\n",
        "#importing the embedding layer\n",
        "from keras.layers import Embedding\n",
        "#importing metrics\n",
        "from sklearn.metrics import f1_score, precision_score, recall_score,accuracy_score\n",
        "#importing regularizers\n",
        "from tensorflow.keras import regularizers\n",
        "#importing lasso and ridge regression\n",
        "from keras.regularizers import l2,l1\n",
        "#importing matplotlib\n",
        "import matplotlib.pyplot as plt\n"
      ],
      "execution_count": 1,
      "outputs": [
        {
          "output_type": "stream",
          "text": [
            "[nltk_data] Downloading package punkt to /root/nltk_data...\n",
            "[nltk_data]   Unzipping tokenizers/punkt.zip.\n",
            "[nltk_data] Downloading package stopwords to /root/nltk_data...\n",
            "[nltk_data]   Unzipping corpora/stopwords.zip.\n"
          ],
          "name": "stdout"
        }
      ]
    },
    {
      "cell_type": "code",
      "metadata": {
        "id": "zU65df-JisvN"
      },
      "source": [
        "#reading the training dataset\n",
        "data = pd.read_csv('train.csv')"
      ],
      "execution_count": 2,
      "outputs": []
    },
    {
      "cell_type": "code",
      "metadata": {
        "id": "H7f693hBJUgc"
      },
      "source": [
        "#reading the training dataset\n",
        "testdata = pd.read_csv('test.csv')"
      ],
      "execution_count": 3,
      "outputs": []
    },
    {
      "cell_type": "code",
      "metadata": {
        "colab": {
          "base_uri": "https://localhost:8080/",
          "height": 190
        },
        "id": "93Cgm2EgisvO",
        "outputId": "5b626be5-2236-4539-f409-42b4632d0243"
      },
      "source": [
        "#reading headers in training data\n",
        "data.head()"
      ],
      "execution_count": 4,
      "outputs": [
        {
          "output_type": "execute_result",
          "data": {
            "text/html": [
              "<div>\n",
              "<style scoped>\n",
              "    .dataframe tbody tr th:only-of-type {\n",
              "        vertical-align: middle;\n",
              "    }\n",
              "\n",
              "    .dataframe tbody tr th {\n",
              "        vertical-align: top;\n",
              "    }\n",
              "\n",
              "    .dataframe thead th {\n",
              "        text-align: right;\n",
              "    }\n",
              "</style>\n",
              "<table border=\"1\" class=\"dataframe\">\n",
              "  <thead>\n",
              "    <tr style=\"text-align: right;\">\n",
              "      <th></th>\n",
              "      <th>textID</th>\n",
              "      <th>text</th>\n",
              "      <th>selected_text</th>\n",
              "      <th>sentiment</th>\n",
              "    </tr>\n",
              "  </thead>\n",
              "  <tbody>\n",
              "    <tr>\n",
              "      <th>0</th>\n",
              "      <td>cb774db0d1</td>\n",
              "      <td>I`d have responded, if I were going</td>\n",
              "      <td>I`d have responded, if I were going</td>\n",
              "      <td>neutral</td>\n",
              "    </tr>\n",
              "    <tr>\n",
              "      <th>1</th>\n",
              "      <td>549e992a42</td>\n",
              "      <td>Sooo SAD I will miss you here in San Diego!!!</td>\n",
              "      <td>Sooo SAD</td>\n",
              "      <td>negative</td>\n",
              "    </tr>\n",
              "    <tr>\n",
              "      <th>2</th>\n",
              "      <td>088c60f138</td>\n",
              "      <td>my boss is bullying me...</td>\n",
              "      <td>bullying me</td>\n",
              "      <td>negative</td>\n",
              "    </tr>\n",
              "    <tr>\n",
              "      <th>3</th>\n",
              "      <td>9642c003ef</td>\n",
              "      <td>what interview! leave me alone</td>\n",
              "      <td>leave me alone</td>\n",
              "      <td>negative</td>\n",
              "    </tr>\n",
              "    <tr>\n",
              "      <th>4</th>\n",
              "      <td>358bd9e861</td>\n",
              "      <td>Sons of ****, why couldn`t they put them on t...</td>\n",
              "      <td>Sons of ****,</td>\n",
              "      <td>negative</td>\n",
              "    </tr>\n",
              "  </tbody>\n",
              "</table>\n",
              "</div>"
            ],
            "text/plain": [
              "       textID  ... sentiment\n",
              "0  cb774db0d1  ...   neutral\n",
              "1  549e992a42  ...  negative\n",
              "2  088c60f138  ...  negative\n",
              "3  9642c003ef  ...  negative\n",
              "4  358bd9e861  ...  negative\n",
              "\n",
              "[5 rows x 4 columns]"
            ]
          },
          "metadata": {
            "tags": []
          },
          "execution_count": 4
        }
      ]
    },
    {
      "cell_type": "code",
      "metadata": {
        "id": "Y4X_w4IzisvQ"
      },
      "source": [
        "#removing the blank spaces\n",
        "data = data.dropna()"
      ],
      "execution_count": 5,
      "outputs": []
    },
    {
      "cell_type": "code",
      "metadata": {
        "id": "7ME6IIw3isvQ"
      },
      "source": [
        "#Assigning the text in the dataset to variable X\n",
        "X = data['text']"
      ],
      "execution_count": 6,
      "outputs": []
    },
    {
      "cell_type": "code",
      "metadata": {
        "id": "oeA6GQ9FKMP-"
      },
      "source": [
        "#test variables\n",
        "X_test=testdata['text']\n",
        "y_test=testdata['sentiment']\n",
        "y_test=LabelEncoder().fit_transform(y_test)"
      ],
      "execution_count": 7,
      "outputs": []
    },
    {
      "cell_type": "code",
      "metadata": {
        "id": "xZ5-PtCrisvQ"
      },
      "source": [
        "#Assigning the sentiment in the dataset to variable Y\n",
        "y = data['sentiment']"
      ],
      "execution_count": 9,
      "outputs": []
    },
    {
      "cell_type": "code",
      "metadata": {
        "colab": {
          "base_uri": "https://localhost:8080/"
        },
        "id": "WIpW5TRRisvR",
        "outputId": "f99b070f-4846-4241-8365-6cd205277ecc"
      },
      "source": [
        "#Visualizing y\n",
        "y"
      ],
      "execution_count": 10,
      "outputs": [
        {
          "output_type": "execute_result",
          "data": {
            "text/plain": [
              "0         neutral\n",
              "1        negative\n",
              "2        negative\n",
              "3        negative\n",
              "4        negative\n",
              "           ...   \n",
              "27476    negative\n",
              "27477    negative\n",
              "27478    positive\n",
              "27479    positive\n",
              "27480     neutral\n",
              "Name: sentiment, Length: 27480, dtype: object"
            ]
          },
          "metadata": {
            "tags": []
          },
          "execution_count": 10
        }
      ]
    },
    {
      "cell_type": "code",
      "metadata": {
        "id": "n4DD35CVisvS"
      },
      "source": [
        "#application of label encoding and tranforming y\n",
        "y = LabelEncoder().fit_transform(y)\n"
      ],
      "execution_count": 11,
      "outputs": []
    },
    {
      "cell_type": "code",
      "metadata": {
        "colab": {
          "base_uri": "https://localhost:8080/"
        },
        "id": "CiWm8L5kisvT",
        "outputId": "1a2b8fb4-5ed8-43b8-ec39-853daccc0d4e"
      },
      "source": [
        "#Visualizing y after transformation\n",
        "y\n"
      ],
      "execution_count": 12,
      "outputs": [
        {
          "output_type": "execute_result",
          "data": {
            "text/plain": [
              "array([1, 0, 0, ..., 2, 2, 1])"
            ]
          },
          "metadata": {
            "tags": []
          },
          "execution_count": 12
        }
      ]
    },
    {
      "cell_type": "code",
      "metadata": {
        "id": "V0rY8f8AisvT"
      },
      "source": [
        "#Coverting the string to lower case and iterating through the words and appending them to the list if the word is not a for X\n",
        "X = X.str.lower()\n",
        "\n",
        "lst = []\n",
        "for phase_word in X:\n",
        "    lst.append(\" \".join([re.sub('[0-9\\W_]', '', word) for word in phase_word.split() if not word in sw]))\n",
        "X = lst"
      ],
      "execution_count": 13,
      "outputs": []
    },
    {
      "cell_type": "code",
      "metadata": {
        "id": "g82qw-X7KyJQ"
      },
      "source": [
        "#Coverting the string to lower case and iterating through the words and appending them to the list if the word is not a for X_test\n",
        "X_test = X_test.str.lower()\n",
        "\n",
        "lst = []\n",
        "for phase_word in X_test:\n",
        "    lst.append(\" \".join([re.sub('[0-9\\W_]', '', word) for word in phase_word.split() if not word in sw]))\n",
        "X_test = lst"
      ],
      "execution_count": 14,
      "outputs": []
    },
    {
      "cell_type": "code",
      "metadata": {
        "id": "kkAd_jnXisvT"
      },
      "source": [
        "#iterating through the word list for each sentence and assigning to tokens\n",
        "for i in range(len(X)):\n",
        "    X[i] = word_tokenize(X[i])"
      ],
      "execution_count": 15,
      "outputs": []
    },
    {
      "cell_type": "code",
      "metadata": {
        "id": "G30aMzcBK91c"
      },
      "source": [
        "#iterating through the word list for each sentence and assigning to tokens\n",
        "for i in range(len(X_test)):\n",
        "    X_test[i] = word_tokenize(X_test[i])"
      ],
      "execution_count": 16,
      "outputs": []
    },
    {
      "cell_type": "markdown",
      "metadata": {
        "id": "PXsLk_BrxCPu"
      },
      "source": [
        ""
      ]
    },
    {
      "cell_type": "markdown",
      "metadata": {
        "id": "xolVo2cRQZZP"
      },
      "source": [
        ""
      ]
    },
    {
      "cell_type": "markdown",
      "metadata": {
        "id": "K_f4zk2HQZVh"
      },
      "source": [
        ""
      ]
    },
    {
      "cell_type": "code",
      "metadata": {
        "colab": {
          "base_uri": "https://localhost:8080/"
        },
        "id": "qL8cF9A9isvU",
        "outputId": "6b5dab13-6e04-4507-a509-bb44e91cbef1"
      },
      "source": [
        "#Splitting the training set into validation and training \n",
        "X_train, X_val, y_train, y_val = train_test_split(np.array(X), y, test_size=0.2) "
      ],
      "execution_count": 17,
      "outputs": [
        {
          "output_type": "stream",
          "text": [
            "/usr/local/lib/python3.7/dist-packages/ipykernel_launcher.py:1: VisibleDeprecationWarning: Creating an ndarray from ragged nested sequences (which is a list-or-tuple of lists-or-tuples-or ndarrays with different lengths or shapes) is deprecated. If you meant to do this, you must specify 'dtype=object' when creating the ndarray\n",
            "  \"\"\"Entry point for launching an IPython kernel.\n"
          ],
          "name": "stderr"
        }
      ]
    },
    {
      "cell_type": "code",
      "metadata": {
        "id": "GRm7VLA5isvU"
      },
      "source": [
        "#Reading the glove vector file and retrieving the embedding index\n",
        "f = open('glove.6B.50d.txt')\n",
        "\n",
        "embeddings_index = {}\n",
        "cnt = 0\n",
        "for line in f:\n",
        "    values = line.split()\n",
        "    word = values[0]\n",
        "    coefs = np.asarray(values[1:], dtype='float')\n",
        "    embeddings_index[word] = coefs\n",
        "f.close()"
      ],
      "execution_count": 18,
      "outputs": []
    },
    {
      "cell_type": "code",
      "metadata": {
        "id": "vQaAPMNnisvV"
      },
      "source": [
        "#creating a method for embedding\n",
        "def embedding_output(X):\n",
        "  max_len=50\n",
        "  emb_dim=50\n",
        "  embedding_out = np.zeros((len(X), max_len, emb_dim))\n",
        "\n",
        "\n",
        "  for ix in range(len(X)):\n",
        "    for ij in range(len(X[ix])):\n",
        "      try:\n",
        "        embedding_out[ix][ij] = embeddings_index[X[ix][ij].lower()]\n",
        "      except: \n",
        "        embedding_out[ix][ij] = np.zeros((50, ))\n",
        "\n",
        "  return embedding_out"
      ],
      "execution_count": 19,
      "outputs": []
    },
    {
      "cell_type": "markdown",
      "metadata": {
        "id": "o4iMLyV3JMiz"
      },
      "source": [
        ""
      ]
    },
    {
      "cell_type": "code",
      "metadata": {
        "id": "n9GrJjN7isvV"
      },
      "source": [
        "#assigning embedding matrix for training and validation sets\n",
        "embedding_matrix_train = embedding_output(X_train)\n",
        "embedding_matrix_val = embedding_output(X_val)\n",
        "embedding_matrix_test=embedding_output(X_test)"
      ],
      "execution_count": 20,
      "outputs": []
    },
    {
      "cell_type": "code",
      "metadata": {
        "colab": {
          "base_uri": "https://localhost:8080/"
        },
        "id": "bPSOMyp3isvV",
        "outputId": "ab69e0e6-a271-4af0-fcf2-3fcb2fe5e85f"
      },
      "source": [
        "#Visualizing the shape of embedding matrix\n",
        "embedding_matrix_train.shape"
      ],
      "execution_count": 21,
      "outputs": [
        {
          "output_type": "execute_result",
          "data": {
            "text/plain": [
              "(21984, 50, 50)"
            ]
          },
          "metadata": {
            "tags": []
          },
          "execution_count": 21
        }
      ]
    },
    {
      "cell_type": "code",
      "metadata": {
        "colab": {
          "base_uri": "https://localhost:8080/"
        },
        "cellView": "code",
        "id": "k2XMbQ4zisvW",
        "outputId": "10a3bb33-b40b-4759-b5cc-30c4784128fe"
      },
      "source": [
        "#creating the model for Tweet sentiment extraction and compiling it\n",
        "model = Sequential()\n",
        "model.add(Bidirectional(RNN(GRUCell(15), input_shape=(50, 50))))\n",
        "model.add(Dropout(0.4))\n",
        "model.add(Dense(units=12, activation='softmax',kernel_regularizer='l1',bias_regularizer='l1'))\n",
        "model.compile(loss='sparse_categorical_crossentropy', optimizer='nadam', metrics=['accuracy'])\n",
        "prediction=model.predict\n",
        "hist = model.fit(embedding_matrix_train, y_train, epochs=40, validation_data=(embedding_matrix_val, y_val))\n",
        "\n"
      ],
      "execution_count": 78,
      "outputs": [
        {
          "output_type": "stream",
          "text": [
            "Epoch 1/40\n",
            "687/687 [==============================] - 42s 58ms/step - loss: 1.9074 - accuracy: 0.3694 - val_loss: 1.1251 - val_accuracy: 0.5797\n",
            "Epoch 2/40\n",
            "687/687 [==============================] - 41s 59ms/step - loss: 1.1423 - accuracy: 0.5700 - val_loss: 1.0386 - val_accuracy: 0.6479\n",
            "Epoch 3/40\n",
            "687/687 [==============================] - 40s 58ms/step - loss: 1.0702 - accuracy: 0.6334 - val_loss: 1.0201 - val_accuracy: 0.6547\n",
            "Epoch 4/40\n",
            "687/687 [==============================] - 39s 57ms/step - loss: 1.0497 - accuracy: 0.6523 - val_loss: 1.0050 - val_accuracy: 0.6601\n",
            "Epoch 5/40\n",
            "687/687 [==============================] - 40s 59ms/step - loss: 1.0399 - accuracy: 0.6542 - val_loss: 0.9960 - val_accuracy: 0.6674\n",
            "Epoch 6/40\n",
            "687/687 [==============================] - 41s 60ms/step - loss: 1.0161 - accuracy: 0.6660 - val_loss: 0.9916 - val_accuracy: 0.6707\n",
            "Epoch 7/40\n",
            "687/687 [==============================] - 40s 58ms/step - loss: 1.0278 - accuracy: 0.6617 - val_loss: 0.9859 - val_accuracy: 0.6725\n",
            "Epoch 8/40\n",
            "687/687 [==============================] - 42s 61ms/step - loss: 1.0156 - accuracy: 0.6670 - val_loss: 0.9856 - val_accuracy: 0.6789\n",
            "Epoch 9/40\n",
            "687/687 [==============================] - 41s 60ms/step - loss: 1.0151 - accuracy: 0.6647 - val_loss: 0.9810 - val_accuracy: 0.6765\n",
            "Epoch 10/40\n",
            "687/687 [==============================] - 41s 59ms/step - loss: 1.0116 - accuracy: 0.6722 - val_loss: 0.9782 - val_accuracy: 0.6783\n",
            "Epoch 11/40\n",
            "687/687 [==============================] - 41s 59ms/step - loss: 1.0126 - accuracy: 0.6695 - val_loss: 0.9769 - val_accuracy: 0.6792\n",
            "Epoch 12/40\n",
            "687/687 [==============================] - 41s 60ms/step - loss: 0.9916 - accuracy: 0.6835 - val_loss: 0.9741 - val_accuracy: 0.6827\n",
            "Epoch 13/40\n",
            "687/687 [==============================] - 41s 60ms/step - loss: 0.9831 - accuracy: 0.6878 - val_loss: 0.9732 - val_accuracy: 0.6818\n",
            "Epoch 14/40\n",
            "687/687 [==============================] - 41s 60ms/step - loss: 0.9867 - accuracy: 0.6878 - val_loss: 0.9740 - val_accuracy: 0.6810\n",
            "Epoch 15/40\n",
            "687/687 [==============================] - 40s 59ms/step - loss: 0.9907 - accuracy: 0.6775 - val_loss: 0.9690 - val_accuracy: 0.6852\n",
            "Epoch 16/40\n",
            "687/687 [==============================] - 41s 59ms/step - loss: 0.9867 - accuracy: 0.6856 - val_loss: 0.9727 - val_accuracy: 0.6814\n",
            "Epoch 17/40\n",
            "687/687 [==============================] - 41s 60ms/step - loss: 0.9884 - accuracy: 0.6826 - val_loss: 0.9673 - val_accuracy: 0.6863\n",
            "Epoch 18/40\n",
            "687/687 [==============================] - 43s 62ms/step - loss: 0.9901 - accuracy: 0.6855 - val_loss: 0.9650 - val_accuracy: 0.6852\n",
            "Epoch 19/40\n",
            "687/687 [==============================] - 41s 60ms/step - loss: 0.9780 - accuracy: 0.6907 - val_loss: 0.9656 - val_accuracy: 0.6849\n",
            "Epoch 20/40\n",
            "687/687 [==============================] - 41s 60ms/step - loss: 0.9730 - accuracy: 0.6916 - val_loss: 0.9653 - val_accuracy: 0.6847\n",
            "Epoch 21/40\n",
            "687/687 [==============================] - 40s 59ms/step - loss: 0.9784 - accuracy: 0.6871 - val_loss: 0.9661 - val_accuracy: 0.6829\n",
            "Epoch 22/40\n",
            "687/687 [==============================] - 40s 58ms/step - loss: 0.9697 - accuracy: 0.6953 - val_loss: 0.9636 - val_accuracy: 0.6841\n",
            "Epoch 23/40\n",
            "687/687 [==============================] - 40s 59ms/step - loss: 0.9754 - accuracy: 0.6871 - val_loss: 0.9632 - val_accuracy: 0.6867\n",
            "Epoch 24/40\n",
            "687/687 [==============================] - 42s 61ms/step - loss: 0.9805 - accuracy: 0.6919 - val_loss: 0.9611 - val_accuracy: 0.6856\n",
            "Epoch 25/40\n",
            "687/687 [==============================] - 41s 59ms/step - loss: 0.9666 - accuracy: 0.6929 - val_loss: 0.9623 - val_accuracy: 0.6845\n",
            "Epoch 26/40\n",
            "687/687 [==============================] - 40s 59ms/step - loss: 0.9657 - accuracy: 0.6966 - val_loss: 0.9613 - val_accuracy: 0.6856\n",
            "Epoch 27/40\n",
            "687/687 [==============================] - 42s 61ms/step - loss: 0.9596 - accuracy: 0.6980 - val_loss: 0.9599 - val_accuracy: 0.6860\n",
            "Epoch 28/40\n",
            "687/687 [==============================] - 41s 60ms/step - loss: 0.9738 - accuracy: 0.6935 - val_loss: 0.9603 - val_accuracy: 0.6890\n",
            "Epoch 29/40\n",
            "687/687 [==============================] - 42s 61ms/step - loss: 0.9562 - accuracy: 0.6999 - val_loss: 0.9610 - val_accuracy: 0.6872\n",
            "Epoch 30/40\n",
            "687/687 [==============================] - 41s 60ms/step - loss: 0.9643 - accuracy: 0.6971 - val_loss: 0.9612 - val_accuracy: 0.6894\n",
            "Epoch 31/40\n",
            "687/687 [==============================] - 42s 61ms/step - loss: 0.9530 - accuracy: 0.6988 - val_loss: 0.9596 - val_accuracy: 0.6874\n",
            "Epoch 32/40\n",
            "687/687 [==============================] - 42s 61ms/step - loss: 0.9535 - accuracy: 0.7017 - val_loss: 0.9593 - val_accuracy: 0.6885\n",
            "Epoch 33/40\n",
            "687/687 [==============================] - 42s 61ms/step - loss: 0.9635 - accuracy: 0.6935 - val_loss: 0.9608 - val_accuracy: 0.6914\n",
            "Epoch 34/40\n",
            "687/687 [==============================] - 42s 61ms/step - loss: 0.9557 - accuracy: 0.7051 - val_loss: 0.9606 - val_accuracy: 0.6890\n",
            "Epoch 35/40\n",
            "687/687 [==============================] - 43s 63ms/step - loss: 0.9504 - accuracy: 0.7051 - val_loss: 0.9597 - val_accuracy: 0.6880\n",
            "Epoch 36/40\n",
            "687/687 [==============================] - 44s 63ms/step - loss: 0.9509 - accuracy: 0.7040 - val_loss: 0.9613 - val_accuracy: 0.6860\n",
            "Epoch 37/40\n",
            "687/687 [==============================] - 44s 64ms/step - loss: 0.9552 - accuracy: 0.7033 - val_loss: 0.9586 - val_accuracy: 0.6905\n",
            "Epoch 38/40\n",
            "687/687 [==============================] - 45s 65ms/step - loss: 0.9621 - accuracy: 0.7026 - val_loss: 0.9593 - val_accuracy: 0.6858\n",
            "Epoch 39/40\n",
            "687/687 [==============================] - 43s 63ms/step - loss: 0.9456 - accuracy: 0.7077 - val_loss: 0.9614 - val_accuracy: 0.6870\n",
            "Epoch 40/40\n",
            "687/687 [==============================] - 43s 63ms/step - loss: 0.9466 - accuracy: 0.7043 - val_loss: 0.9607 - val_accuracy: 0.6838\n"
          ],
          "name": "stdout"
        }
      ]
    },
    {
      "cell_type": "code",
      "metadata": {
        "id": "7rutOmzyisvW",
        "colab": {
          "base_uri": "https://localhost:8080/"
        },
        "outputId": "40643f3f-51b5-46bb-b9bb-ef4bb3fcde25"
      },
      "source": [
        "#predicting the values of embedding matrix\n",
        "model.predict(embedding_matrix_val[0:10])"
      ],
      "execution_count": 79,
      "outputs": [
        {
          "output_type": "execute_result",
          "data": {
            "text/plain": [
              "array([[0.02907117, 0.09270841, 0.85460466, 0.00262509, 0.0026246 ,\n",
              "        0.00262476, 0.00262675, 0.00262143, 0.00262164, 0.0026231 ,\n",
              "        0.00262307, 0.00262533],\n",
              "       [0.07947301, 0.26795658, 0.6300311 , 0.00250457, 0.00250501,\n",
              "        0.00250459, 0.00250687, 0.00250258, 0.00250217, 0.0025029 ,\n",
              "        0.00250474, 0.00250585],\n",
              "       [0.09486002, 0.49111518, 0.38947996, 0.00272632, 0.00272787,\n",
              "        0.00272706, 0.00272942, 0.00272619, 0.0027258 , 0.00272602,\n",
              "        0.00272829, 0.00272782],\n",
              "       [0.13809592, 0.7435123 , 0.09450314, 0.0026529 , 0.00265559,\n",
              "        0.00265323, 0.00265703, 0.00265378, 0.00265293, 0.00265209,\n",
              "        0.00265605, 0.00265513],\n",
              "       [0.04465427, 0.1815085 , 0.7432016 , 0.00340428, 0.0034045 ,\n",
              "        0.00340441, 0.00340755, 0.0034023 , 0.00340166, 0.00340192,\n",
              "        0.00340335, 0.00340567],\n",
              "       [0.07514195, 0.20602831, 0.6895844 , 0.00325055, 0.00325043,\n",
              "        0.00325003, 0.00325294, 0.00324719, 0.00324629, 0.00324751,\n",
              "        0.0032494 , 0.00325101],\n",
              "       [0.10465109, 0.30577394, 0.5583617 , 0.00346887, 0.003469  ,\n",
              "        0.00346873, 0.00347164, 0.00346583, 0.00346485, 0.00346561,\n",
              "        0.00346893, 0.0034698 ],\n",
              "       [0.1015036 , 0.19409654, 0.6687535 , 0.003962  , 0.00396129,\n",
              "        0.00396132, 0.00396534, 0.00395714, 0.00395703, 0.00395834,\n",
              "        0.0039604 , 0.00396346],\n",
              "       [0.12866937, 0.62648934, 0.22023328, 0.00273335, 0.00273575,\n",
              "        0.00273371, 0.00273685, 0.00273299, 0.00273218, 0.00273208,\n",
              "        0.00273583, 0.00273522],\n",
              "       [0.18867415, 0.7178418 , 0.06141657, 0.00356123, 0.00356496,\n",
              "        0.00356151, 0.00356613, 0.00356301, 0.00356153, 0.00356008,\n",
              "        0.00356543, 0.00356371]], dtype=float32)"
            ]
          },
          "metadata": {
            "tags": []
          },
          "execution_count": 79
        }
      ]
    },
    {
      "cell_type": "code",
      "metadata": {
        "id": "An1lzsANzxnL",
        "colab": {
          "base_uri": "https://localhost:8080/",
          "height": 572
        },
        "outputId": "67347715-1ffc-4bef-9128-f8eb743201b5"
      },
      "source": [
        "# summarize history for accuracy\n",
        "plt.plot(hist.history['accuracy'])\n",
        "plt.plot(hist.history['val_accuracy'])\n",
        "plt.title('model accuracy')\n",
        "plt.ylabel('accuracy')\n",
        "plt.xlabel('epoch')\n",
        "plt.legend(['train', 'test'], loc='upper left')\n",
        "plt.show()\n",
        "# summarize history for loss\n",
        "plt.plot(hist.history['loss'])\n",
        "plt.plot(hist.history['val_loss'])\n",
        "plt.title('model loss')\n",
        "plt.ylabel('loss')\n",
        "plt.xlabel('epoch')\n",
        "plt.legend(['train', 'test'], loc='upper left')\n",
        "plt.show()"
      ],
      "execution_count": 80,
      "outputs": [
        {
          "output_type": "display_data",
          "data": {
            "image/png": "[encoded data removed]",
            "text/plain": [
              "<Figure size 432x288 with 1 Axes>"
            ]
          },
          "metadata": {
            "tags": [],
            "needs_background": "light"
          }
        },
        {
          "output_type": "display_data",
          "data": {
            "image/png": "[encoded data removed]",
            "text/plain": [
              "<Figure size 432x288 with 1 Axes>"
            ]
          },
          "metadata": {
            "tags": [],
            "needs_background": "light"
          }
        }
      ]
    },
    {
      "cell_type": "code",
      "metadata": {
        "id": "6sWd2IPZisvX",
        "colab": {
          "base_uri": "https://localhost:8080/"
        },
        "outputId": "da9ed242-7268-40a9-911b-b61cfe933103"
      },
      "source": [
        "y_val[0:10]"
      ],
      "execution_count": 81,
      "outputs": [
        {
          "output_type": "execute_result",
          "data": {
            "text/plain": [
              "array([2, 2, 1, 1, 2, 1, 2, 2, 1, 1])"
            ]
          },
          "metadata": {
            "tags": []
          },
          "execution_count": 81
        }
      ]
    },
    {
      "cell_type": "code",
      "metadata": {
        "id": "5HtWnpMtisvX"
      },
      "source": [
        "# Define metrics\n",
        "y_pred = model.predict(embedding_matrix_test)\n",
        "pred = []\n",
        "for i in range(len(X_test)):\n",
        "   pred.append(np.argmax(y_pred[i]))"
      ],
      "execution_count": 82,
      "outputs": []
    },
    {
      "cell_type": "code",
      "metadata": {
        "id": "9eKYTdgGisvX"
      },
      "source": [
        "pred = np.array(pred)"
      ],
      "execution_count": 83,
      "outputs": []
    },
    {
      "cell_type": "code",
      "metadata": {
        "colab": {
          "base_uri": "https://localhost:8080/"
        },
        "id": "cJR7XX_D4pkv",
        "outputId": "81b0ad5c-b6d1-4114-9d78-c03c61ef4f1f"
      },
      "source": [
        "#calculating the f1 score for the model\n",
        "f1_score(y_test, pred, average='macro')"
      ],
      "execution_count": 84,
      "outputs": [
        {
          "output_type": "execute_result",
          "data": {
            "text/plain": [
              "0.6843755112874477"
            ]
          },
          "metadata": {
            "tags": []
          },
          "execution_count": 84
        }
      ]
    },
    {
      "cell_type": "code",
      "metadata": {
        "colab": {
          "base_uri": "https://localhost:8080/"
        },
        "id": "yqa1YnoTTwMP",
        "outputId": "55c7ee6c-edcc-4c5e-cc36-92c0bf521914"
      },
      "source": [
        "#calculating the recall score for the model\n",
        "recall_score(y_test, pred, average='macro')"
      ],
      "execution_count": 85,
      "outputs": [
        {
          "output_type": "execute_result",
          "data": {
            "text/plain": [
              "0.6793756560755654"
            ]
          },
          "metadata": {
            "tags": []
          },
          "execution_count": 85
        }
      ]
    },
    {
      "cell_type": "markdown",
      "metadata": {
        "id": "zIsnZkv4VDou"
      },
      "source": [
        "accuracy_score(y_test)"
      ]
    },
    {
      "cell_type": "code",
      "metadata": {
        "colab": {
          "base_uri": "https://localhost:8080/"
        },
        "id": "SSbhS8dsTkHI",
        "outputId": "87dba329-bb77-404c-8d50-72216a667f6b"
      },
      "source": [
        "#calculating the precision score for the model\n",
        "precision_score(y_test, pred, average=\"macro\")"
      ],
      "execution_count": 86,
      "outputs": [
        {
          "output_type": "execute_result",
          "data": {
            "text/plain": [
              "0.6935039411453751"
            ]
          },
          "metadata": {
            "tags": []
          },
          "execution_count": 86
        }
      ]
    },
    {
      "cell_type": "code",
      "metadata": {
        "colab": {
          "base_uri": "https://localhost:8080/"
        },
        "id": "1R9tl54sTymn",
        "outputId": "0668f297-82a9-477b-890c-9c7d2b2309ed"
      },
      "source": [
        "#calculating the accuracy score for the model\n",
        "accuracy_score(y_test, pred)"
      ],
      "execution_count": 87,
      "outputs": [
        {
          "output_type": "execute_result",
          "data": {
            "text/plain": [
              "0.6850594227504244"
            ]
          },
          "metadata": {
            "tags": []
          },
          "execution_count": 87
        }
      ]
    },
    {
      "cell_type": "code",
      "metadata": {
        "colab": {
          "base_uri": "https://localhost:8080/"
        },
        "id": "WqKKagCcWmdi",
        "outputId": "3b841c9e-98cc-4081-860b-60756e904faa"
      },
      "source": [
        "#Display the architecture of the model\n",
        "model.summary()\n"
      ],
      "execution_count": 88,
      "outputs": [
        {
          "output_type": "stream",
          "text": [
            "Model: \"sequential_15\"\n",
            "_________________________________________________________________\n",
            "Layer (type)                 Output Shape              Param #   \n",
            "=================================================================\n",
            "bidirectional_9 (Bidirection (None, 30)                6030      \n",
            "_________________________________________________________________\n",
            "dropout_14 (Dropout)         (None, 30)                0         \n",
            "_________________________________________________________________\n",
            "dense_15 (Dense)             (None, 12)                372       \n",
            "=================================================================\n",
            "Total params: 6,402\n",
            "Trainable params: 6,402\n",
            "Non-trainable params: 0\n",
            "_________________________________________________________________\n"
          ],
          "name": "stdout"
        }
      ]
    }
  ]
}