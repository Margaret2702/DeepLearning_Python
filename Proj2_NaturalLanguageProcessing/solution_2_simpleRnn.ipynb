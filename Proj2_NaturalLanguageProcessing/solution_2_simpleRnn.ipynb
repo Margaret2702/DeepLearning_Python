{
 "cells": [
  {
   "cell_type": "code",
   "execution_count": 1,
   "metadata": {
    "colab": {
     "base_uri": "https://localhost:8080/"
    },
    "id": "ChKfzE2LisvB",
    "outputId": "c7db63b7-8844-440c-a444-20a752e5e99a"
   },
   "outputs": [
    {
     "name": "stderr",
     "output_type": "stream",
     "text": [
      "[nltk_data] Downloading package punkt to /home/sanju/nltk_data...\n",
      "[nltk_data]   Package punkt is already up-to-date!\n",
      "[nltk_data] Downloading package stopwords to /home/sanju/nltk_data...\n",
      "[nltk_data]   Package stopwords is already up-to-date!\n",
      "Using TensorFlow backend.\n"
     ]
    }
   ],
   "source": [
    "#importing libraries : Pandas,numpy,string,regular expression,natural language tool kit,Scikit-learn,tensorflow,keras\n",
    "import pandas as pd\n",
    "import numpy as np\n",
    "import string\n",
    "import re\n",
    "import nltk\n",
    "#downloading the punctuations and stopwords from natural language toolkit\n",
    "nltk.download('punkt')\n",
    "nltk.download('stopwords')\n",
    "#importing stopwords for the tweets\n",
    "from nltk.corpus import stopwords\n",
    "\n",
    "sw = stopwords.words('english')\n",
    "from sklearn.model_selection import train_test_split\n",
    "from tensorflow.keras.models import Sequential\n",
    "#importing the layers required for the model\n",
    "from tensorflow.keras.layers import Dense, LSTM,Bidirectional, Dropout,MaxPool2D,Conv1D,MaxPool1D,RNN,SimpleRNN,LSTMCell,TimeDistributed,GRU,GRUCell\n",
    "#importing the label encoding\n",
    "from sklearn.preprocessing import LabelEncoder\n",
    "#importing tokenizers from natural language toolkit\n",
    "from nltk.tokenize import word_tokenize, sent_tokenize\n",
    "#importing the embedding layer\n",
    "from keras.layers import Embedding\n",
    "#importing metrics\n",
    "from sklearn.metrics import f1_score, precision_score, recall_score,accuracy_score\n",
    "from tensorflow.keras import regularizers\n",
    "from keras.regularizers import l2,l1\n",
    "import matplotlib.pyplot as plt\n",
    "\n"
   ]
  },
  {
   "cell_type": "code",
   "execution_count": 2,
   "metadata": {
    "id": "zU65df-JisvN"
   },
   "outputs": [],
   "source": [
    "#reading the training dataset\n",
    "data = pd.read_csv('train.csv')"
   ]
  },
  {
   "cell_type": "code",
   "execution_count": 3,
   "metadata": {
    "id": "H7f693hBJUgc"
   },
   "outputs": [],
   "source": [
    "#reading the training dataset\n",
    "testdata = pd.read_csv('test.csv')"
   ]
  },
  {
   "cell_type": "markdown",
   "metadata": {
    "id": "zN-t4TY3Taya"
   },
   "source": [
    "# New Section"
   ]
  },
  {
   "cell_type": "code",
   "execution_count": 4,
   "metadata": {
    "colab": {
     "base_uri": "https://localhost:8080/",
     "height": 192
    },
    "id": "93Cgm2EgisvO",
    "outputId": "d6f4e219-7f5c-4400-d953-289975fc41fb"
   },
   "outputs": [
    {
     "data": {
      "text/html": [
       "<div>\n",
       "<style scoped>\n",
       "    .dataframe tbody tr th:only-of-type {\n",
       "        vertical-align: middle;\n",
       "    }\n",
       "\n",
       "    .dataframe tbody tr th {\n",
       "        vertical-align: top;\n",
       "    }\n",
       "\n",
       "    .dataframe thead th {\n",
       "        text-align: right;\n",
       "    }\n",
       "</style>\n",
       "<table border=\"1\" class=\"dataframe\">\n",
       "  <thead>\n",
       "    <tr style=\"text-align: right;\">\n",
       "      <th></th>\n",
       "      <th>textID</th>\n",
       "      <th>text</th>\n",
       "      <th>selected_text</th>\n",
       "      <th>sentiment</th>\n",
       "    </tr>\n",
       "  </thead>\n",
       "  <tbody>\n",
       "    <tr>\n",
       "      <th>0</th>\n",
       "      <td>cb774db0d1</td>\n",
       "      <td>I`d have responded, if I were going</td>\n",
       "      <td>I`d have responded, if I were going</td>\n",
       "      <td>neutral</td>\n",
       "    </tr>\n",
       "    <tr>\n",
       "      <th>1</th>\n",
       "      <td>549e992a42</td>\n",
       "      <td>Sooo SAD I will miss you here in San Diego!!!</td>\n",
       "      <td>Sooo SAD</td>\n",
       "      <td>negative</td>\n",
       "    </tr>\n",
       "    <tr>\n",
       "      <th>2</th>\n",
       "      <td>088c60f138</td>\n",
       "      <td>my boss is bullying me...</td>\n",
       "      <td>bullying me</td>\n",
       "      <td>negative</td>\n",
       "    </tr>\n",
       "    <tr>\n",
       "      <th>3</th>\n",
       "      <td>9642c003ef</td>\n",
       "      <td>what interview! leave me alone</td>\n",
       "      <td>leave me alone</td>\n",
       "      <td>negative</td>\n",
       "    </tr>\n",
       "    <tr>\n",
       "      <th>4</th>\n",
       "      <td>358bd9e861</td>\n",
       "      <td>Sons of ****, why couldn`t they put them on t...</td>\n",
       "      <td>Sons of ****,</td>\n",
       "      <td>negative</td>\n",
       "    </tr>\n",
       "  </tbody>\n",
       "</table>\n",
       "</div>"
      ],
      "text/plain": [
       "       textID                                               text  \\\n",
       "0  cb774db0d1                I`d have responded, if I were going   \n",
       "1  549e992a42      Sooo SAD I will miss you here in San Diego!!!   \n",
       "2  088c60f138                          my boss is bullying me...   \n",
       "3  9642c003ef                     what interview! leave me alone   \n",
       "4  358bd9e861   Sons of ****, why couldn`t they put them on t...   \n",
       "\n",
       "                         selected_text sentiment  \n",
       "0  I`d have responded, if I were going   neutral  \n",
       "1                             Sooo SAD  negative  \n",
       "2                          bullying me  negative  \n",
       "3                       leave me alone  negative  \n",
       "4                        Sons of ****,  negative  "
      ]
     },
     "execution_count": 4,
     "metadata": {},
     "output_type": "execute_result"
    }
   ],
   "source": [
    "#reading headers in training data\n",
    "data.head()"
   ]
  },
  {
   "cell_type": "code",
   "execution_count": 5,
   "metadata": {
    "id": "Y4X_w4IzisvQ"
   },
   "outputs": [],
   "source": [
    "#removing the blank spaces\n",
    "data = data.dropna()"
   ]
  },
  {
   "cell_type": "code",
   "execution_count": 6,
   "metadata": {
    "id": "7ME6IIw3isvQ"
   },
   "outputs": [],
   "source": [
    "#Assigning the text in the dataset to variable X\n",
    "X = data['text']"
   ]
  },
  {
   "cell_type": "code",
   "execution_count": 7,
   "metadata": {
    "id": "oeA6GQ9FKMP-"
   },
   "outputs": [],
   "source": [
    "#test variables\n",
    "X_test=testdata['text']\n",
    "y_test=testdata['sentiment']\n",
    "y_test=LabelEncoder().fit_transform(y_test)"
   ]
  },
  {
   "cell_type": "code",
   "execution_count": 8,
   "metadata": {
    "id": "xZ5-PtCrisvQ"
   },
   "outputs": [],
   "source": [
    "#Assigning the sentiment in the dataset to variable Y\n",
    "y = data['sentiment']"
   ]
  },
  {
   "cell_type": "code",
   "execution_count": 9,
   "metadata": {
    "colab": {
     "base_uri": "https://localhost:8080/"
    },
    "id": "WIpW5TRRisvR",
    "outputId": "3c411013-4dbd-4b39-a218-cc4cb2444208"
   },
   "outputs": [
    {
     "data": {
      "text/plain": [
       "0         neutral\n",
       "1        negative\n",
       "2        negative\n",
       "3        negative\n",
       "4        negative\n",
       "5         neutral\n",
       "6        positive\n",
       "7         neutral\n",
       "8         neutral\n",
       "9        positive\n",
       "10        neutral\n",
       "11       positive\n",
       "12       negative\n",
       "13       negative\n",
       "14        neutral\n",
       "15       negative\n",
       "16       negative\n",
       "17       negative\n",
       "18       negative\n",
       "19        neutral\n",
       "20        neutral\n",
       "21       positive\n",
       "22        neutral\n",
       "23        neutral\n",
       "24        neutral\n",
       "25       positive\n",
       "26       negative\n",
       "27       negative\n",
       "28       positive\n",
       "29       negative\n",
       "           ...   \n",
       "27451    positive\n",
       "27452     neutral\n",
       "27453     neutral\n",
       "27454    positive\n",
       "27455    positive\n",
       "27456    negative\n",
       "27457     neutral\n",
       "27458    positive\n",
       "27459    positive\n",
       "27460     neutral\n",
       "27461    positive\n",
       "27462    positive\n",
       "27463    negative\n",
       "27464    negative\n",
       "27465    positive\n",
       "27466     neutral\n",
       "27467    positive\n",
       "27468     neutral\n",
       "27469     neutral\n",
       "27470    negative\n",
       "27471     neutral\n",
       "27472    negative\n",
       "27473     neutral\n",
       "27474    positive\n",
       "27475    positive\n",
       "27476    negative\n",
       "27477    negative\n",
       "27478    positive\n",
       "27479    positive\n",
       "27480     neutral\n",
       "Name: sentiment, Length: 27480, dtype: object"
      ]
     },
     "execution_count": 9,
     "metadata": {},
     "output_type": "execute_result"
    }
   ],
   "source": [
    "y"
   ]
  },
  {
   "cell_type": "code",
   "execution_count": 10,
   "metadata": {
    "id": "n4DD35CVisvS"
   },
   "outputs": [],
   "source": [
    "#application of label encoding and tranforming y\n",
    "y = LabelEncoder().fit_transform(y)\n"
   ]
  },
  {
   "cell_type": "code",
   "execution_count": 11,
   "metadata": {
    "colab": {
     "base_uri": "https://localhost:8080/"
    },
    "id": "CiWm8L5kisvT",
    "outputId": "2d36087d-6816-4407-9306-39dd4d1a5124"
   },
   "outputs": [
    {
     "data": {
      "text/plain": [
       "array([1, 0, 0, ..., 2, 2, 1])"
      ]
     },
     "execution_count": 11,
     "metadata": {},
     "output_type": "execute_result"
    }
   ],
   "source": [
    "y\n"
   ]
  },
  {
   "cell_type": "code",
   "execution_count": 12,
   "metadata": {
    "id": "V0rY8f8AisvT"
   },
   "outputs": [],
   "source": [
    "#Coverting the string to lower case and iterating through the words and appending them to the list if the word is not a for X\n",
    "X = X.str.lower()\n",
    "\n",
    "lst = []\n",
    "for phase_word in X:\n",
    "    lst.append(\" \".join([re.sub('[0-9\\W_]', '', word) for word in phase_word.split() if not word in sw]))\n",
    "X = lst"
   ]
  },
  {
   "cell_type": "code",
   "execution_count": 13,
   "metadata": {
    "id": "g82qw-X7KyJQ"
   },
   "outputs": [],
   "source": [
    "#Coverting the string to lower case and iterating through the words and appending them to the list if the word is not a for X_test\n",
    "X_test = X_test.str.lower()\n",
    "\n",
    "lst = []\n",
    "for phase_word in X_test:\n",
    "    lst.append(\" \".join([re.sub('[0-9\\W_]', '', word) for word in phase_word.split() if not word in sw]))\n",
    "X_test = lst"
   ]
  },
  {
   "cell_type": "code",
   "execution_count": 14,
   "metadata": {
    "id": "kkAd_jnXisvT"
   },
   "outputs": [],
   "source": [
    "#iterating through the word list for each sentence and assigning to tokens\n",
    "for i in range(len(X)):\n",
    "    X[i] = word_tokenize(X[i])"
   ]
  },
  {
   "cell_type": "code",
   "execution_count": 15,
   "metadata": {
    "id": "G30aMzcBK91c"
   },
   "outputs": [],
   "source": [
    "#iterating through the word list for each sentence and assigning to tokens\n",
    "for i in range(len(X_test)):\n",
    "    X_test[i] = word_tokenize(X_test[i])"
   ]
  },
  {
   "cell_type": "code",
   "execution_count": 16,
   "metadata": {
    "colab": {
     "base_uri": "https://localhost:8080/"
    },
    "id": "qL8cF9A9isvU",
    "outputId": "0486437d-e85e-41f8-ba44-d6ef12792d09"
   },
   "outputs": [
    {
     "name": "stderr",
     "output_type": "stream",
     "text": [
      "/home/sanju/anaconda3/lib/python3.7/site-packages/ipykernel_launcher.py:1: VisibleDeprecationWarning: Creating an ndarray from ragged nested sequences (which is a list-or-tuple of lists-or-tuples-or ndarrays with different lengths or shapes) is deprecated. If you meant to do this, you must specify 'dtype=object' when creating the ndarray\n",
      "  \"\"\"Entry point for launching an IPython kernel.\n"
     ]
    }
   ],
   "source": [
    "X_train, X_val, y_train, y_val = train_test_split(np.array(X), y, test_size=0.2) "
   ]
  },
  {
   "cell_type": "code",
   "execution_count": 17,
   "metadata": {
    "id": "GRm7VLA5isvU"
   },
   "outputs": [],
   "source": [
    "f = open('glove.6B.50d.txt')\n",
    "\n",
    "embeddings_index = {}\n",
    "cnt = 0\n",
    "for line in f:\n",
    "    values = line.split()\n",
    "    word = values[0]\n",
    "    coefs = np.asarray(values[1:], dtype='float')\n",
    "    embeddings_index[word] = coefs\n",
    "f.close()"
   ]
  },
  {
   "cell_type": "code",
   "execution_count": 18,
   "metadata": {
    "id": "vQaAPMNnisvV"
   },
   "outputs": [],
   "source": [
    "def embedding_output(X):\n",
    "  max_len=50\n",
    "  emb_dim=50\n",
    "  embedding_out = np.zeros((len(X), max_len, emb_dim))\n",
    "\n",
    "\n",
    "  for ix in range(len(X)):\n",
    "    for ij in range(len(X[ix])):\n",
    "      try:\n",
    "        embedding_out[ix][ij] = embeddings_index[X[ix][ij].lower()]\n",
    "      except: \n",
    "        embedding_out[ix][ij] = np.zeros((50, ))\n",
    "\n",
    "  return embedding_out"
   ]
  },
  {
   "cell_type": "code",
   "execution_count": 19,
   "metadata": {
    "id": "n9GrJjN7isvV"
   },
   "outputs": [],
   "source": [
    "#assigning embedding matrix for training and validation sets\n",
    "embedding_matrix_train = embedding_output(X_train)\n",
    "embedding_matrix_val = embedding_output(X_val)\n",
    "embedding_matrix_test=embedding_output(X_test)"
   ]
  },
  {
   "cell_type": "code",
   "execution_count": 20,
   "metadata": {
    "colab": {
     "base_uri": "https://localhost:8080/"
    },
    "id": "bPSOMyp3isvV",
    "outputId": "4ebbdefa-7705-4cc5-b475-14b57160e67c"
   },
   "outputs": [
    {
     "data": {
      "text/plain": [
       "(21984, 50, 50)"
      ]
     },
     "execution_count": 20,
     "metadata": {},
     "output_type": "execute_result"
    }
   ],
   "source": [
    "embedding_matrix_train.shape"
   ]
  },
  {
   "cell_type": "code",
   "execution_count": 21,
   "metadata": {
    "cellView": "code",
    "colab": {
     "base_uri": "https://localhost:8080/"
    },
    "id": "k2XMbQ4zisvW",
    "outputId": "e54da5e8-c00f-4f74-c9c2-8fabb24ca423"
   },
   "outputs": [
    {
     "name": "stdout",
     "output_type": "stream",
     "text": [
      "Epoch 1/15\n",
      "687/687 [==============================] - 4s 5ms/step - loss: 1.6808 - accuracy: 0.3916 - val_loss: 1.3289 - val_accuracy: 0.4017\n",
      "Epoch 2/15\n",
      "687/687 [==============================] - 4s 5ms/step - loss: 1.2312 - accuracy: 0.4052 - val_loss: 1.1629 - val_accuracy: 0.4017\n",
      "Epoch 3/15\n",
      "687/687 [==============================] - 3s 5ms/step - loss: 1.1484 - accuracy: 0.4052 - val_loss: 1.1222 - val_accuracy: 0.4017\n",
      "Epoch 4/15\n",
      "687/687 [==============================] - 3s 5ms/step - loss: 1.1226 - accuracy: 0.4052 - val_loss: 1.1071 - val_accuracy: 0.4017\n",
      "Epoch 5/15\n",
      "687/687 [==============================] - 3s 5ms/step - loss: 1.1097 - accuracy: 0.4052 - val_loss: 1.0999 - val_accuracy: 0.4017\n",
      "Epoch 6/15\n",
      "687/687 [==============================] - 3s 5ms/step - loss: 1.1023 - accuracy: 0.4052 - val_loss: 1.0958 - val_accuracy: 0.4017\n",
      "Epoch 7/15\n",
      "687/687 [==============================] - 3s 5ms/step - loss: 1.0986 - accuracy: 0.4052 - val_loss: 1.0925 - val_accuracy: 0.4017\n",
      "Epoch 8/15\n",
      "687/687 [==============================] - 3s 5ms/step - loss: 1.0953 - accuracy: 0.4052 - val_loss: 1.0910 - val_accuracy: 0.4017\n",
      "Epoch 9/15\n",
      "687/687 [==============================] - 3s 5ms/step - loss: 1.0933 - accuracy: 0.4052 - val_loss: 1.0895 - val_accuracy: 0.4017\n",
      "Epoch 10/15\n",
      "687/687 [==============================] - 3s 5ms/step - loss: 1.0916 - accuracy: 0.4052 - val_loss: 1.0892 - val_accuracy: 0.4017\n",
      "Epoch 11/15\n",
      "687/687 [==============================] - 3s 5ms/step - loss: 1.0904 - accuracy: 0.4052 - val_loss: 1.0883 - val_accuracy: 0.4017\n",
      "Epoch 12/15\n",
      "687/687 [==============================] - 4s 5ms/step - loss: 1.0894 - accuracy: 0.4052 - val_loss: 1.0877 - val_accuracy: 0.4017\n",
      "Epoch 13/15\n",
      "687/687 [==============================] - 4s 5ms/step - loss: 1.0890 - accuracy: 0.4052 - val_loss: 1.0882 - val_accuracy: 0.4017\n",
      "Epoch 14/15\n",
      "687/687 [==============================] - 3s 5ms/step - loss: 1.0884 - accuracy: 0.4052 - val_loss: 1.0874 - val_accuracy: 0.4017\n",
      "Epoch 15/15\n",
      "687/687 [==============================] - 4s 5ms/step - loss: 1.0880 - accuracy: 0.4052 - val_loss: 1.0875 - val_accuracy: 0.4017\n"
     ]
    }
   ],
   "source": [
    "#creating the model for Tweet sentiment extraction and compiling it\n",
    "model = Sequential()\n",
    "model.add(SimpleRNN(64, input_shape=(50, 50),activation='softmax'))\n",
    "model.add(Dropout(0.5))\n",
    "model.add(Dense(units=10, activation='softmax'))\n",
    "model.compile(loss='sparse_categorical_crossentropy', optimizer='adam', metrics=['accuracy'])\n",
    "prediction=model.predict\n",
    "hist = model.fit(embedding_matrix_train, y_train, epochs=15, validation_data=(embedding_matrix_val, y_val))\n"
   ]
  },
  {
   "cell_type": "code",
   "execution_count": 22,
   "metadata": {
    "colab": {
     "base_uri": "https://localhost:8080/"
    },
    "id": "7rutOmzyisvW",
    "outputId": "002e1c32-e997-4fef-fc03-46c4063f0b33"
   },
   "outputs": [
    {
     "data": {
      "text/plain": [
       "array([[2.8452244e-01, 4.0968791e-01, 3.0548275e-01, 4.2847463e-05,\n",
       "        4.4327317e-05, 4.2786989e-05, 4.3337903e-05, 4.5682675e-05,\n",
       "        4.3060394e-05, 4.4876189e-05],\n",
       "       [2.8452247e-01, 4.0968794e-01, 3.0548272e-01, 4.2847467e-05,\n",
       "        4.4327320e-05, 4.2787036e-05, 4.3337906e-05, 4.5682678e-05,\n",
       "        4.3060398e-05, 4.4876193e-05],\n",
       "       [2.8452244e-01, 4.0968791e-01, 3.0548275e-01, 4.2847463e-05,\n",
       "        4.4327317e-05, 4.2786989e-05, 4.3337903e-05, 4.5682675e-05,\n",
       "        4.3060394e-05, 4.4876189e-05],\n",
       "       [2.8452244e-01, 4.0968791e-01, 3.0548275e-01, 4.2847463e-05,\n",
       "        4.4327317e-05, 4.2786989e-05, 4.3337903e-05, 4.5682675e-05,\n",
       "        4.3060394e-05, 4.4876189e-05],\n",
       "       [2.8452244e-01, 4.0968791e-01, 3.0548275e-01, 4.2847463e-05,\n",
       "        4.4327317e-05, 4.2786989e-05, 4.3337903e-05, 4.5682675e-05,\n",
       "        4.3060394e-05, 4.4876189e-05],\n",
       "       [2.8452244e-01, 4.0968791e-01, 3.0548275e-01, 4.2847463e-05,\n",
       "        4.4327317e-05, 4.2786989e-05, 4.3337903e-05, 4.5682675e-05,\n",
       "        4.3060394e-05, 4.4876189e-05],\n",
       "       [2.8452247e-01, 4.0968794e-01, 3.0548272e-01, 4.2847467e-05,\n",
       "        4.4327320e-05, 4.2787036e-05, 4.3337906e-05, 4.5682678e-05,\n",
       "        4.3060398e-05, 4.4876237e-05],\n",
       "       [2.8452244e-01, 4.0968791e-01, 3.0548275e-01, 4.2847463e-05,\n",
       "        4.4327317e-05, 4.2786989e-05, 4.3337903e-05, 4.5682675e-05,\n",
       "        4.3060394e-05, 4.4876189e-05],\n",
       "       [2.8452244e-01, 4.0968791e-01, 3.0548275e-01, 4.2847463e-05,\n",
       "        4.4327317e-05, 4.2786989e-05, 4.3337903e-05, 4.5682675e-05,\n",
       "        4.3060394e-05, 4.4876189e-05],\n",
       "       [2.8452247e-01, 4.0968794e-01, 3.0548272e-01, 4.2847467e-05,\n",
       "        4.4327320e-05, 4.2787036e-05, 4.3337906e-05, 4.5682678e-05,\n",
       "        4.3060398e-05, 4.4876193e-05]], dtype=float32)"
      ]
     },
     "execution_count": 22,
     "metadata": {},
     "output_type": "execute_result"
    }
   ],
   "source": [
    "model.predict(embedding_matrix_val[0:10])"
   ]
  },
  {
   "cell_type": "code",
   "execution_count": 23,
   "metadata": {
    "id": "An1lzsANzxnL"
   },
   "outputs": [
    {
     "data": {
      "image/png": "[encoded data removed]",
      "text/plain": [
       "<Figure size 432x288 with 1 Axes>"
      ]
     },
     "metadata": {
      "needs_background": "light"
     },
     "output_type": "display_data"
    },
    {
     "data": {
      "image/png": "[encoded data removed]",
      "text/plain": [
       "<Figure size 432x288 with 1 Axes>"
      ]
     },
     "metadata": {
      "needs_background": "light"
     },
     "output_type": "display_data"
    }
   ],
   "source": [
    "# summarize history for accuracy\n",
    "plt.plot(hist.history['accuracy'])\n",
    "plt.plot(hist.history['val_accuracy'])\n",
    "plt.title('model accuracy')\n",
    "plt.ylabel('accuracy')\n",
    "plt.xlabel('epoch')\n",
    "plt.legend(['train', 'test'], loc='upper left')\n",
    "plt.show()\n",
    "# summarize history for loss\n",
    "plt.plot(hist.history['loss'])\n",
    "plt.plot(hist.history['val_loss'])\n",
    "plt.title('model loss')\n",
    "plt.ylabel('loss')\n",
    "plt.xlabel('epoch')\n",
    "plt.legend(['train', 'test'], loc='upper left')\n",
    "plt.show()"
   ]
  },
  {
   "cell_type": "code",
   "execution_count": 24,
   "metadata": {
    "colab": {
     "base_uri": "https://localhost:8080/"
    },
    "id": "6sWd2IPZisvX",
    "outputId": "83d2510f-e217-48bf-d34b-1df9d6789097"
   },
   "outputs": [
    {
     "data": {
      "text/plain": [
       "array([1, 0, 0, 1, 1, 1, 2, 1, 1, 1])"
      ]
     },
     "execution_count": 24,
     "metadata": {},
     "output_type": "execute_result"
    }
   ],
   "source": [
    "y_val[0:10]"
   ]
  },
  {
   "cell_type": "code",
   "execution_count": 25,
   "metadata": {
    "id": "5HtWnpMtisvX"
   },
   "outputs": [],
   "source": [
    "# Define metrics\n",
    "y_pred = model.predict(embedding_matrix_test)\n",
    "pred = []\n",
    "for i in range(len(X_test)):\n",
    "   pred.append(np.argmax(y_pred[i]))"
   ]
  },
  {
   "cell_type": "code",
   "execution_count": 26,
   "metadata": {
    "id": "9eKYTdgGisvX"
   },
   "outputs": [],
   "source": [
    "pred = np.array(pred)"
   ]
  },
  {
   "cell_type": "code",
   "execution_count": 27,
   "metadata": {
    "colab": {
     "base_uri": "https://localhost:8080/"
    },
    "id": "cJR7XX_D4pkv",
    "outputId": "379cc316-b35a-4da2-8c4d-fd076ea316d8"
   },
   "outputs": [
    {
     "data": {
      "text/plain": [
       "0.1920494225087295"
      ]
     },
     "execution_count": 27,
     "metadata": {},
     "output_type": "execute_result"
    }
   ],
   "source": [
    "#calculating the f1 score for the model\n",
    "f1_score(y_test, pred, average='macro')"
   ]
  },
  {
   "cell_type": "code",
   "execution_count": 28,
   "metadata": {
    "colab": {
     "base_uri": "https://localhost:8080/"
    },
    "id": "yqa1YnoTTwMP",
    "outputId": "5c163329-29b5-4931-ba77-3c844a682df3"
   },
   "outputs": [
    {
     "data": {
      "text/plain": [
       "0.3333333333333333"
      ]
     },
     "execution_count": 28,
     "metadata": {},
     "output_type": "execute_result"
    }
   ],
   "source": [
    "#calculating the recall score for the model\n",
    "recall_score(y_test, pred, average='macro')"
   ]
  },
  {
   "cell_type": "markdown",
   "metadata": {
    "id": "zIsnZkv4VDou"
   },
   "source": [
    "accuracy_score(y_test)"
   ]
  },
  {
   "cell_type": "code",
   "execution_count": 29,
   "metadata": {
    "colab": {
     "base_uri": "https://localhost:8080/"
    },
    "id": "SSbhS8dsTkHI",
    "outputId": "10f08198-36d0-4a7f-d388-9d545bc4f67a"
   },
   "outputs": [
    {
     "name": "stderr",
     "output_type": "stream",
     "text": [
      "/home/sanju/anaconda3/lib/python3.7/site-packages/sklearn/metrics/_classification.py:1221: UndefinedMetricWarning: Precision is ill-defined and being set to 0.0 in labels with no predicted samples. Use `zero_division` parameter to control this behavior.\n",
      "  _warn_prf(average, modifier, msg_start, len(result))\n"
     ]
    },
    {
     "data": {
      "text/plain": [
       "0.1348802112808904"
      ]
     },
     "execution_count": 29,
     "metadata": {},
     "output_type": "execute_result"
    }
   ],
   "source": [
    "#calculating the precision score for the model\n",
    "precision_score(y_test, pred, average=\"macro\")"
   ]
  },
  {
   "cell_type": "code",
   "execution_count": 30,
   "metadata": {
    "colab": {
     "base_uri": "https://localhost:8080/"
    },
    "id": "1R9tl54sTymn",
    "outputId": "0a36659b-68e2-46c5-ae14-89dbf35433fe"
   },
   "outputs": [
    {
     "data": {
      "text/plain": [
       "0.4046406338426712"
      ]
     },
     "execution_count": 30,
     "metadata": {},
     "output_type": "execute_result"
    }
   ],
   "source": [
    "#calculating the accuracy score for the model\n",
    "accuracy_score(y_test, pred)"
   ]
  },
  {
   "cell_type": "code",
   "execution_count": 31,
   "metadata": {
    "colab": {
     "base_uri": "https://localhost:8080/"
    },
    "id": "WqKKagCcWmdi",
    "outputId": "408ff980-6e36-4d24-c3eb-dcdbaefadcad"
   },
   "outputs": [
    {
     "name": "stdout",
     "output_type": "stream",
     "text": [
      "Model: \"sequential\"\n",
      "_________________________________________________________________\n",
      "Layer (type)                 Output Shape              Param #   \n",
      "=================================================================\n",
      "simple_rnn (SimpleRNN)       (None, 64)                7360      \n",
      "_________________________________________________________________\n",
      "dropout (Dropout)            (None, 64)                0         \n",
      "_________________________________________________________________\n",
      "dense (Dense)                (None, 10)                650       \n",
      "=================================================================\n",
      "Total params: 8,010\n",
      "Trainable params: 8,010\n",
      "Non-trainable params: 0\n",
      "_________________________________________________________________\n"
     ]
    }
   ],
   "source": [
    "#Display the architecture of the model\n",
    "model.summary()\n"
   ]
  },
  {
   "cell_type": "code",
   "execution_count": null,
   "metadata": {},
   "outputs": [],
   "source": []
  }
 ],
 "metadata": {
  "accelerator": "GPU",
  "colab": {
   "collapsed_sections": [],
   "name": "Model5:SimpleRNN.ipynb",
   "provenance": [],
   "toc_visible": true
  },
  "kernelspec": {
   "display_name": "Python 3",
   "language": "python",
   "name": "python3"
  },
  "language_info": {
   "codemirror_mode": {
    "name": "ipython",
    "version": 3
   },
   "file_extension": ".py",
   "mimetype": "text/x-python",
   "name": "python",
   "nbconvert_exporter": "python",
   "pygments_lexer": "ipython3",
   "version": "3.7.6"
  }
 },
 "nbformat": 4,
 "nbformat_minor": 4
}
