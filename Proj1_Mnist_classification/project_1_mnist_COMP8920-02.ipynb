{
  "nbformat": 4,
  "nbformat_minor": 0,
  "metadata": {
    "colab": {
      "name": "project_1_mnist.ipynb",
      "provenance": [],
      "collapsed_sections": []
    },
    "kernelspec": {
      "name": "python3",
      "display_name": "Python 3"
    },
    "accelerator": "GPU"
  },
  "cells": [
    {
      "cell_type": "code",
      "metadata": {
        "id": "rvDF9UMpJIJx"
      },
      "source": [
        "#imports\n",
        "import numpy as np\n",
        "import tensorflow as tf\n",
        "from tensorflow import keras\n",
        "import matplotlib.pyplot as plt\n",
        "from keras.layers import Conv2D, MaxPool2D, Flatten, Dense, Dropout\n",
        "from keras.models import Sequential\n",
        "from sklearn.metrics import f1_score, precision_score, recall_score, confusion_matrix\n",
        "from sklearn.model_selection import RandomizedSearchCV"
      ],
      "execution_count": 1,
      "outputs": []
    },
    {
      "cell_type": "code",
      "metadata": {
        "id": "lFtTXGEnJnLU",
        "colab": {
          "base_uri": "https://localhost:8080/"
        },
        "outputId": "b0e02993-ec21-404b-8127-b246116beaa8"
      },
      "source": [
        "#importing the mnist data\n",
        "\n",
        "(X_train_full, y_train_full), (X_test, y_test) = keras.datasets.mnist.load_data()"
      ],
      "execution_count": 2,
      "outputs": [
        {
          "output_type": "stream",
          "text": [
            "Downloading data from https://storage.googleapis.com/tensorflow/tf-keras-datasets/mnist.npz\n",
            "11493376/11490434 [==============================] - 0s 0us/step\n"
          ],
          "name": "stdout"
        }
      ]
    },
    {
      "cell_type": "code",
      "metadata": {
        "id": "2CjRIA0lK-K7"
      },
      "source": [
        "#creating training and validation sets\n",
        "X_train, X_valid = X_train_full[:-5000], X_train_full[-5000:]\n",
        "y_train, y_valid = y_train_full[:-5000], y_train_full[-5000:]"
      ],
      "execution_count": 3,
      "outputs": []
    },
    {
      "cell_type": "code",
      "metadata": {
        "id": "jWQ3-XXvKEaF"
      },
      "source": [
        "#standardization of data\n",
        "\n",
        "X_mean = X_train.mean(axis=0, keepdims=True)\n",
        "X_std = X_train.std(axis=0, keepdims=True) + 1e-7\n",
        "X_train = (X_train - X_mean) / X_std\n",
        "X_valid = (X_valid - X_mean) / X_std\n",
        "X_test = (X_test - X_mean) / X_std\n",
        "\n",
        "#adding a new axis \n",
        "X_train = X_train[..., np.newaxis]\n",
        "X_valid = X_valid[..., np.newaxis]\n",
        "X_test = X_test[..., np.newaxis]"
      ],
      "execution_count": 4,
      "outputs": []
    },
    {
      "cell_type": "code",
      "metadata": {
        "id": "Y_iUh3quLFiu"
      },
      "source": [
        "#creating the model\n",
        "\n",
        "model = Sequential([\n",
        "  Conv2D(filters=64, kernel_size=7, padding='SAME', activation='relu',input_shape=[28, 28, 1]),\n",
        "  MaxPool2D(pool_size=2),\n",
        "  Conv2D(filters=128, kernel_size=3, padding='SAME', activation='relu'),\n",
        "  Conv2D(filters=128, kernel_size=3, padding='SAME', activation='relu'),\n",
        "  MaxPool2D(pool_size=2),\n",
        "  Flatten(),\n",
        "  Dense(units=128, activation='relu'),\n",
        "  Dense(units=10, activation='softmax'),\n",
        "])"
      ],
      "execution_count": 21,
      "outputs": []
    },
    {
      "cell_type": "code",
      "metadata": {
        "id": "mLhSZJftOrSC"
      },
      "source": [
        "#compiling the model\n",
        "\n",
        "model.compile(optimizer='nadam', loss='sparse_categorical_crossentropy', metrics=['accuracy'])"
      ],
      "execution_count": 22,
      "outputs": []
    },
    {
      "cell_type": "code",
      "metadata": {
        "colab": {
          "base_uri": "https://localhost:8080/"
        },
        "id": "TyhBlkHqOUH2",
        "outputId": "4b375772-c05b-4590-c859-5cf49b8d1b01"
      },
      "source": [
        "model.summary()"
      ],
      "execution_count": 23,
      "outputs": [
        {
          "output_type": "stream",
          "text": [
            "Model: \"sequential_2\"\n",
            "_________________________________________________________________\n",
            "Layer (type)                 Output Shape              Param #   \n",
            "=================================================================\n",
            "conv2d_6 (Conv2D)            (None, 28, 28, 64)        3200      \n",
            "_________________________________________________________________\n",
            "max_pooling2d_4 (MaxPooling2 (None, 14, 14, 64)        0         \n",
            "_________________________________________________________________\n",
            "conv2d_7 (Conv2D)            (None, 14, 14, 128)       73856     \n",
            "_________________________________________________________________\n",
            "conv2d_8 (Conv2D)            (None, 14, 14, 128)       147584    \n",
            "_________________________________________________________________\n",
            "max_pooling2d_5 (MaxPooling2 (None, 7, 7, 128)         0         \n",
            "_________________________________________________________________\n",
            "flatten_2 (Flatten)          (None, 6272)              0         \n",
            "_________________________________________________________________\n",
            "dense_4 (Dense)              (None, 128)               802944    \n",
            "_________________________________________________________________\n",
            "dense_5 (Dense)              (None, 10)                1290      \n",
            "=================================================================\n",
            "Total params: 1,028,874\n",
            "Trainable params: 1,028,874\n",
            "Non-trainable params: 0\n",
            "_________________________________________________________________\n"
          ],
          "name": "stdout"
        }
      ]
    },
    {
      "cell_type": "code",
      "metadata": {
        "colab": {
          "base_uri": "https://localhost:8080/"
        },
        "id": "-aZL0WbDP_Df",
        "outputId": "6fe5e3ff-99eb-4334-b9d2-6802dea2ff43"
      },
      "source": [
        "# fitting the model\n",
        "\n",
        "history = model.fit(X_train, y_train, epochs=10, validation_data=(X_valid, y_valid))"
      ],
      "execution_count": 24,
      "outputs": [
        {
          "output_type": "stream",
          "text": [
            "Epoch 1/10\n",
            "1719/1719 [==============================] - 10s 5ms/step - loss: 0.2416 - accuracy: 0.9230 - val_loss: 0.0612 - val_accuracy: 0.9838\n",
            "Epoch 2/10\n",
            "1719/1719 [==============================] - 9s 5ms/step - loss: 0.0459 - accuracy: 0.9863 - val_loss: 0.0410 - val_accuracy: 0.9910\n",
            "Epoch 3/10\n",
            "1719/1719 [==============================] - 9s 5ms/step - loss: 0.0288 - accuracy: 0.9910 - val_loss: 0.0420 - val_accuracy: 0.9910\n",
            "Epoch 4/10\n",
            "1719/1719 [==============================] - 9s 5ms/step - loss: 0.0234 - accuracy: 0.9927 - val_loss: 0.0423 - val_accuracy: 0.9908\n",
            "Epoch 5/10\n",
            "1719/1719 [==============================] - 9s 5ms/step - loss: 0.0196 - accuracy: 0.9939 - val_loss: 0.0603 - val_accuracy: 0.9870\n",
            "Epoch 6/10\n",
            "1719/1719 [==============================] - 9s 5ms/step - loss: 0.0247 - accuracy: 0.9928 - val_loss: 0.0451 - val_accuracy: 0.9924\n",
            "Epoch 7/10\n",
            "1719/1719 [==============================] - 9s 5ms/step - loss: 0.0129 - accuracy: 0.9962 - val_loss: 0.0434 - val_accuracy: 0.9936\n",
            "Epoch 8/10\n",
            "1719/1719 [==============================] - 9s 5ms/step - loss: 0.0217 - accuracy: 0.9948 - val_loss: 0.0556 - val_accuracy: 0.9910\n",
            "Epoch 9/10\n",
            "1719/1719 [==============================] - 9s 5ms/step - loss: 0.0208 - accuracy: 0.9946 - val_loss: 0.0602 - val_accuracy: 0.9906\n",
            "Epoch 10/10\n",
            "1719/1719 [==============================] - 9s 5ms/step - loss: 0.0122 - accuracy: 0.9968 - val_loss: 0.0708 - val_accuracy: 0.9908\n"
          ],
          "name": "stdout"
        }
      ]
    },
    {
      "cell_type": "code",
      "metadata": {
        "id": "IK-sMrFf5rfs"
      },
      "source": [
        "y_pred = model.predict(X_test)"
      ],
      "execution_count": 25,
      "outputs": []
    },
    {
      "cell_type": "code",
      "metadata": {
        "id": "00lk1xZ084FR"
      },
      "source": [
        "pred = []\n",
        "for i in range(len(X_test)):\n",
        "   pred.append(np.argmax(y_pred[i]))"
      ],
      "execution_count": 26,
      "outputs": []
    },
    {
      "cell_type": "code",
      "metadata": {
        "id": "yeAw9tcB9TYS"
      },
      "source": [
        "pred = np.array(pred)"
      ],
      "execution_count": 27,
      "outputs": []
    },
    {
      "cell_type": "code",
      "metadata": {
        "colab": {
          "base_uri": "https://localhost:8080/"
        },
        "id": "oKtBqkG4-YWb",
        "outputId": "c9304a33-9be8-413a-db6e-6986a8a2d513"
      },
      "source": [
        "precision_score(y_test, pred, average=\"macro\")"
      ],
      "execution_count": 28,
      "outputs": [
        {
          "output_type": "execute_result",
          "data": {
            "text/plain": [
              "0.9916046980398612"
            ]
          },
          "metadata": {
            "tags": []
          },
          "execution_count": 28
        }
      ]
    },
    {
      "cell_type": "code",
      "metadata": {
        "colab": {
          "base_uri": "https://localhost:8080/"
        },
        "id": "8ZYisRdpAa0k",
        "outputId": "296ef7ff-7668-4870-f80e-61f74cf13510"
      },
      "source": [
        "recall_score(y_test, pred, average='macro')"
      ],
      "execution_count": 29,
      "outputs": [
        {
          "output_type": "execute_result",
          "data": {
            "text/plain": [
              "0.9917301265187369"
            ]
          },
          "metadata": {
            "tags": []
          },
          "execution_count": 29
        }
      ]
    },
    {
      "cell_type": "code",
      "metadata": {
        "colab": {
          "base_uri": "https://localhost:8080/"
        },
        "id": "lWCMbO58Bd9N",
        "outputId": "507fd4da-36f0-4c69-c1b8-3cb194bec362"
      },
      "source": [
        "f1_score(y_test, pred, average='macro')"
      ],
      "execution_count": 30,
      "outputs": [
        {
          "output_type": "execute_result",
          "data": {
            "text/plain": [
              "0.9916579972780573"
            ]
          },
          "metadata": {
            "tags": []
          },
          "execution_count": 30
        }
      ]
    },
    {
      "cell_type": "code",
      "metadata": {
        "colab": {
          "base_uri": "https://localhost:8080/"
        },
        "id": "2rgSl6dlF5SR",
        "outputId": "4e88f0e5-5dcf-4387-833d-b1546dcc6bcc"
      },
      "source": [
        "model.evaluate(X_test, y_test)"
      ],
      "execution_count": 31,
      "outputs": [
        {
          "output_type": "stream",
          "text": [
            "313/313 [==============================] - 1s 2ms/step - loss: 1824.2184 - accuracy: 0.9917\n"
          ],
          "name": "stdout"
        },
        {
          "output_type": "execute_result",
          "data": {
            "text/plain": [
              "[1824.2183837890625, 0.9916999936103821]"
            ]
          },
          "metadata": {
            "tags": []
          },
          "execution_count": 31
        }
      ]
    },
    {
      "cell_type": "code",
      "metadata": {
        "id": "_L8FsyJqGfX5",
        "colab": {
          "base_uri": "https://localhost:8080/",
          "height": 265
        },
        "outputId": "404c1758-236c-42b8-e6a4-e57fc9c08c13"
      },
      "source": [
        "plt.imshow(X_test[0][:, :, 0], cmap='gray')      #the image at X-test[0]\n",
        "plt.show()"
      ],
      "execution_count": 32,
      "outputs": [
        {
          "output_type": "display_data",
          "data": {
            "image/png": "[encoded data removed]",
            "text/plain": [
              "<Figure size 432x288 with 1 Axes>"
            ]
          },
          "metadata": {
            "tags": [],
            "needs_background": "light"
          }
        }
      ]
    },
    {
      "cell_type": "code",
      "metadata": {
        "colab": {
          "base_uri": "https://localhost:8080/"
        },
        "id": "yNJ4lbaHCsZb",
        "outputId": "a4a04d7f-cc20-4898-bc86-ad2d9716b93d"
      },
      "source": [
        "pred[0]      #the prediction  of model at X_test[0]"
      ],
      "execution_count": 33,
      "outputs": [
        {
          "output_type": "execute_result",
          "data": {
            "text/plain": [
              "7"
            ]
          },
          "metadata": {
            "tags": []
          },
          "execution_count": 33
        }
      ]
    },
    {
      "cell_type": "code",
      "metadata": {
        "id": "HGwwMcUhFYPL"
      },
      "source": [
        ""
      ],
      "execution_count": null,
      "outputs": []
    }
  ]
}